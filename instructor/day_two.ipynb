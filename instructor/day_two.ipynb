{
 "cells": [
  {
   "cell_type": "markdown",
   "metadata": {},
   "source": [
    "# Day 2\n",
    "A vast amount of data exists on the web and is now publicly available. In this section, we give an overview of popular ways to retrieve data from the web, and walk through some important concerns and considerations. \n",
    "\n",
    "## Background\n",
    "** 1) How does the web work? **  \n",
    "** - a) Examining a http request through your browser (Chrome/Firefox) **  \n",
    "** - b) Examining a http request through your console **  \n",
    "\n",
    "** 2) Web terminology: some important distinctions **  \n",
    "** - a) Web scraping vs APIs - what's the difference? **      \n",
    "** - b) Web scrapers vs crawlers & spiders - what's the difference? **     \n",
    "\n",
    "** 3) Building friendly bots: robots.txt and legality ** \n",
    "\n",
    "\n",
    "## Tutorial\n",
    "** 1) Creating a friendly bot on Wikipedia **  \n",
    "** 2) Twitter API **  \n",
    "  "
   ]
  },
  {
   "cell_type": "markdown",
   "metadata": {},
   "source": [
    "In many cases, it's useful to control the order in which statements or function calls are executed or evaluated. A control flow statement determines which path or paths in a program should be followed. Control flow statements, for example, can:\n",
    "\n",
    "* execute a set of statements if a condition or certain conditions are met\n",
    "* execute a set of statements `n` times until a condition or certain conditions are met\n",
    "* stop the execution of a program\n",
    "\n",
    "How can we achieve this? The most well-known statement type is the `if` statement."
   ]
  },
  {
   "cell_type": "code",
   "execution_count": 150,
   "metadata": {
    "collapsed": true
   },
   "outputs": [],
   "source": [
    "x = 0"
   ]
  },
  {
   "cell_type": "code",
   "execution_count": 151,
   "metadata": {
    "collapsed": false
   },
   "outputs": [
    {
     "name": "stdout",
     "output_type": "stream",
     "text": [
      "x is zero\n"
     ]
    }
   ],
   "source": [
    "if x == 0:\n",
    "    print('x is zero')"
   ]
  },
  {
   "cell_type": "markdown",
   "metadata": {},
   "source": [
    "`if` statements make use of boolean expressions. If the expression (or set of expressions) evaluate to `True`, the indented statement gets executed. Otherwise, nothing happens."
   ]
  },
  {
   "cell_type": "code",
   "execution_count": 152,
   "metadata": {
    "collapsed": true
   },
   "outputs": [],
   "source": [
    "x = 1"
   ]
  },
  {
   "cell_type": "code",
   "execution_count": 153,
   "metadata": {
    "collapsed": false
   },
   "outputs": [],
   "source": [
    "if x == 0:\n",
    "    print('x is zero')"
   ]
  },
  {
   "cell_type": "markdown",
   "metadata": {},
   "source": [
    "The code above is referred to as a clause. Clauses contain \"headers\" and \"bodies.\" Clause headers begin with identifying keywords&mdash;in this case, `if`&mdash;include boolean expressions, and end with colons. The body is a group of indented statements controlled by the clause. This is also known as a \"block.\"\n",
    "\n",
    "Compound statements are made up of one or more clauses. For example, there might be two possibilities in which case we use the `else` keyword. We can combine the above as follows."
   ]
  },
  {
   "cell_type": "code",
   "execution_count": 154,
   "metadata": {
    "collapsed": false
   },
   "outputs": [
    {
     "name": "stdout",
     "output_type": "stream",
     "text": [
      "x is not zero\n"
     ]
    }
   ],
   "source": [
    "if x == 0:\n",
    "    print('x is zero')\n",
    "else:\n",
    "    print('x is not zero')"
   ]
  },
  {
   "cell_type": "markdown",
   "metadata": {},
   "source": [
    "Notice that clause headers are at the same indentation level.\n",
    "\n",
    "When there are more than two possibilities, we can use what are called chained conditionals. For this, we use the `elif` keyword."
   ]
  },
  {
   "cell_type": "code",
   "execution_count": 155,
   "metadata": {
    "collapsed": false
   },
   "outputs": [
    {
     "name": "stdout",
     "output_type": "stream",
     "text": [
      "x is positive\n"
     ]
    }
   ],
   "source": [
    "if x == 0:\n",
    "    print('x is zero')\n",
    "elif x < 0:\n",
    "    print('x is negative')\n",
    "elif x > 0:\n",
    "    print('x is positive')"
   ]
  },
  {
   "cell_type": "markdown",
   "metadata": {},
   "source": [
    "Of course, the code above only works if `x` is numeric. Assuming this is the case, all possible values of `x` are listed. Because of this, we can change the last clause (`elif x > 0`) to `else`.\n",
    "\n",
    "There isn't a \"right\" way to do this. A good approach is to write it such that its easily readable for yourself and others.\n",
    "\n",
    "What if `x` is *not* numeric? With the code as is, we'll get a `TypeError`. So, let's generalize what we have and wrap it in a function."
   ]
  },
  {
   "cell_type": "code",
   "execution_count": 156,
   "metadata": {
    "collapsed": false
   },
   "outputs": [],
   "source": [
    "def x_is(x):\n",
    "    if type(x) is str:\n",
    "        print('x is str')\n",
    "    elif type(x) in [int, float]:\n",
    "        if x == 0:\n",
    "            print('x is zero')\n",
    "        elif x < 0:\n",
    "            print('x is negative')\n",
    "        elif x > 0:\n",
    "            print('x is positive')\n",
    "    else:\n",
    "        print('invalid x value')"
   ]
  },
  {
   "cell_type": "markdown",
   "metadata": {},
   "source": [
    "Before we call our function, let's explain what's going on. Our function, as defined, is an example of a \"nested conditional.\" We first perform a type check and, if `x` is numeric, there are another set of conditions which are checked."
   ]
  },
  {
   "cell_type": "code",
   "execution_count": 157,
   "metadata": {
    "collapsed": false
   },
   "outputs": [
    {
     "name": "stdout",
     "output_type": "stream",
     "text": [
      "x is str\n"
     ]
    }
   ],
   "source": [
    "x_is('ucb')"
   ]
  },
  {
   "cell_type": "code",
   "execution_count": 158,
   "metadata": {
    "collapsed": false
   },
   "outputs": [
    {
     "name": "stdout",
     "output_type": "stream",
     "text": [
      "x is positive\n"
     ]
    }
   ],
   "source": [
    "x_is(1)"
   ]
  },
  {
   "cell_type": "code",
   "execution_count": 159,
   "metadata": {
    "collapsed": false
   },
   "outputs": [
    {
     "name": "stdout",
     "output_type": "stream",
     "text": [
      "x is zero\n"
     ]
    }
   ],
   "source": [
    "x_is(0)"
   ]
  },
  {
   "cell_type": "code",
   "execution_count": 160,
   "metadata": {
    "collapsed": false
   },
   "outputs": [
    {
     "name": "stdout",
     "output_type": "stream",
     "text": [
      "invalid x value\n"
     ]
    }
   ],
   "source": [
    "x_is([1, 2, 3])"
   ]
  },
  {
   "cell_type": "code",
   "execution_count": 161,
   "metadata": {
    "collapsed": false
   },
   "outputs": [
    {
     "name": "stdout",
     "output_type": "stream",
     "text": [
      "invalid x value\n"
     ]
    }
   ],
   "source": [
    "x_is(None)"
   ]
  },
  {
   "cell_type": "markdown",
   "metadata": {},
   "source": [
    "Control flow [**DOCS**](https://docs.python.org/3/tutorial/controlflow.html)"
   ]
  },
  {
   "cell_type": "markdown",
   "metadata": {},
   "source": [
    "\n",
    "# Background:\n",
    "\n",
    "## 1) How does the web work? \n",
    "An extremely simplified model of the web is as follows. The World Wide Web is said to follow a client-server architecture, where clients (etc. the web browser on your computer) send <b><i>requests</i></b> to servers, and servers respond with resources. When you enter a URL (or Uniform Resource Locator) into your browser, your browser sends a http request with information about the resource you are looking for to a remote server, which the server returns, if available. \n",
    "\n",
    "<img src=\"images/Client-server-model.svg.png\">"
   ]
  },
  {
   "cell_type": "markdown",
   "metadata": {},
   "source": [
    "A server can be understood as a computer that has various files (resources) stored in its system, and that returns those files if it receives requests in a format it understands. "
   ]
  },
  {
   "cell_type": "markdown",
   "metadata": {},
   "source": [
    "## 1a). Examining a request through your browser (Chrome/Firefox)\n",
    "\n",
    "You can view the request sent by your browser by:\n",
    "\n",
    "1) Opening a new tab in your browser   \n",
    "2) Enabling developer tools (__View -> Developer -> Developer Tools in Chrome__ and __Tools -> Web Developer -> Toggle Tools in Firefox__)  \n",
    "3) Loading or reloading a web page (etc. www.google.com)  \n",
    "4) Navigating to the Network tab in the panel that appears at the bottom of the page.   "
   ]
  },
  {
   "cell_type": "markdown",
   "metadata": {},
   "source": [
    "### Chrome Examine Request Example\n",
    "<img src=\"images/chrome_request.png\">"
   ]
  },
  {
   "cell_type": "markdown",
   "metadata": {},
   "source": [
    "### Firefox Examine Request Example\n",
    "<img src=\"images/firefox_request.png\">"
   ]
  },
  {
   "cell_type": "markdown",
   "metadata": {},
   "source": [
    "These requests you send follow the HTTP protocol (Hypertext Transfer Protocol), part of which defines the information (along with the format) the server needs to receive to return the right resources. Your HTTP request contains __headers__, which contains information that the server needs to know in order to return the right information to you. "
   ]
  },
  {
   "cell_type": "markdown",
   "metadata": {},
   "source": [
    "## 1b). Examining a http request through the console\n",
    "\n",
    "Let's now try accessing the same server by using requests. Now, instead of sending the server a request through your browser, you are sending the server a request programmatically, through your console.  The server returns some output to you, which the requests module parses as a python object.  "
   ]
  },
  {
   "cell_type": "code",
   "execution_count": 3,
   "metadata": {
    "collapsed": false
   },
   "outputs": [],
   "source": [
    "import requests\n",
    "\n",
    "r = requests.get(\"http://www.google.com\")"
   ]
  },
  {
   "cell_type": "markdown",
   "metadata": {},
   "source": [
    "This response object contains various information about the request you sent to the server, the resources returned, and information about the response the server returned to you, among other information. These are accessible through the <i>__request__</i> attribute, the <i>__content__</i> attribute and the <i>__headers__</i> attribute respectively, which we'll each examine below.\n"
   ]
  },
  {
   "cell_type": "code",
   "execution_count": 9,
   "metadata": {
    "collapsed": false
   },
   "outputs": [
    {
     "data": {
      "text/plain": [
       "(requests.models.PreparedRequest,\n",
       " bytes,\n",
       " requests.structures.CaseInsensitiveDict)"
      ]
     },
     "execution_count": 9,
     "metadata": {},
     "output_type": "execute_result"
    }
   ],
   "source": [
    "type(r.request), type(r.content), type(r.headers)"
   ]
  },
  {
   "cell_type": "markdown",
   "metadata": {},
   "source": [
    "Here, we can see that __request__ is an object with a custom type, __content__ is a str value and __headers__ is an object with \"dict\" in its name, suggesting we can interact with it like we would with a dictionary.\n",
    "\n",
    "If we recall our simple model of the web, we sent a http request through our console to a remote server, which returned a response. Both the request and response contains information that first allows the server to determine the right resource to return, and then typically, our browser to interpret the returned object. \n",
    "\n",
    "The content is the actual resource returned to us - let's take a look at the content first before examining the request and response objects more carefully. (We select the first 1000 characters b/c of the display limits of Jupyter/python notebook.)"
   ]
  },
  {
   "cell_type": "code",
   "execution_count": 19,
   "metadata": {
    "collapsed": false
   },
   "outputs": [
    {
     "name": "stdout",
     "output_type": "stream",
     "text": [
      "(b'<!doctype html><html itemscope=\"\" itemtype=\"http://schema.org/WebPage\" lang='\n",
      " b'\"en\"><head><meta content=\"Search the world\\'s information, including webp'\n",
      " b'ages, images, videos and more. Google has many special features to help you '\n",
      " b'find exactly what you\\'re looking for.\" name=\"description\"><meta content='\n",
      " b'\"noodp\" name=\"robots\"><meta content=\"text/html; charset=UTF-8\" http-equiv=\"C'\n",
      " b'ontent-Type\"><meta content=\"/images/branding/googleg/1x/googleg_standard_col'\n",
      " b'or_128dp.png\" itemprop=\"image\"><title>Google</title><script>(function(){wind'\n",
      " b\"ow.google={kEI:'DRrOVsaEMY-ejwPvvoSICg',kEXPI:'201667,3700209,3700313,370038\"\n",
      " b'8,4028790,4029815,4031109,4032677,4033307,4036509,4036527,4038012,4039268,40'\n",
      " b'42784,4042792,4043492,4045841,4046304,4048909,4049501,4049549,4049557,405091'\n",
      " b'2,4051241,4051558,4051596,4051714,4052304,4054117,4054284,4054552,4055202,40'\n",
      " b'56038,4057169,4057589,4057836,4057920,4058003,4058117,4058316,4058330,405833'\n",
      " b'7,4058382,4058384,4058625,4058938,4059305,4059318,4059373,4059438,4059635,40'\n",
      " b'59767,4059860,406068')\n"
     ]
    }
   ],
   "source": [
    "from pprint import pprint\n",
    "pprint(r.content[0:1000])"
   ]
  },
  {
   "cell_type": "markdown",
   "metadata": {},
   "source": [
    "### HTML: language for computers\n",
    "\n",
    "The content returned is written in __HTML (HyperText Markup Language)__, which is the default format in which web pages are returned. The content looks like gibberish at first, with little to no spacing. The reason for this is that this output is not designed for us to read, but for the browser to parse and present in a visual interface. \n",
    "\n",
    "The HTML raw document contains both the text in the web page, such as \"Google Research\" or \"I'm Feeling Lucky\", as well as tags and information about how the text is to be formatted and presented, including positioning, font size and the layout of the site. When we begin writing our web scraper for Wikipedia, we'll go into more detail how to navigate and parse the HTML structure to locate and extract the data you need.\n",
    "\n",
    "\n",
    "If you save a web page as a \".html\" file, and open the file in a text editor like Notepad++ or Sublime Text, this is the same format you'll see. Opening the file in a browser (i.e. by double-clicking it) gives you the Google home page you are familiar with. \n"
   ]
  },
  {
   "cell_type": "markdown",
   "metadata": {},
   "source": [
    "Next, let's take a look at the request attribute. Notice that the request attribute is attached to our response object returned from requests.get, i.e. the http request has already been sent and the request attribute is provided for convenience to see what request headers you sent, after-the-fact. "
   ]
  },
  {
   "cell_type": "markdown",
   "metadata": {},
   "source": [
    "Let's print out the headers associated with our request. The __url__ and __method__ attribute contains other key information associated with the request. We can see the __headers__, __url__ and __method__ attributes in the dir, you can also use the __getattr__ function or just check to see if a word is in the headers list (if the headers list is too long)."
   ]
  },
  {
   "cell_type": "code",
   "execution_count": 12,
   "metadata": {
    "collapsed": false
   },
   "outputs": [
    {
     "data": {
      "text/plain": [
       "{'Accept': '*/*', 'Accept-Encoding': 'gzip, deflate', 'Connection': 'keep-alive', 'User-Agent': 'python-requests/2.9.1'}"
      ]
     },
     "execution_count": 12,
     "metadata": {},
     "output_type": "execute_result"
    }
   ],
   "source": [
    "r.request.headers"
   ]
  },
  {
   "cell_type": "markdown",
   "metadata": {},
   "source": [
    "### Printing information associated with request "
   ]
  },
  {
   "cell_type": "code",
   "execution_count": 20,
   "metadata": {
    "collapsed": false
   },
   "outputs": [
    {
     "name": "stdout",
     "output_type": "stream",
     "text": [
      "'url: http://www.google.com/'\n",
      "'method: GET'\n"
     ]
    }
   ],
   "source": [
    "pprint(\"url: \" + r.request.url)\n",
    "pprint(\"method: \" + r.request.method)"
   ]
  },
  {
   "cell_type": "code",
   "execution_count": 21,
   "metadata": {
    "collapsed": false
   },
   "outputs": [
    {
     "name": "stdout",
     "output_type": "stream",
     "text": [
      "ItemsView({'Accept': '*/*', 'Accept-Encoding': 'gzip, deflate', 'Connection': 'keep-alive', 'User-Agent': 'python-requests/2.9.1'})\n"
     ]
    }
   ],
   "source": [
    "pprint(r.request.headers.items())"
   ]
  },
  {
   "cell_type": "markdown",
   "metadata": {},
   "source": [
    "The method associated with the request (GET here) is part of a number of other methods defined in the HTTP Protocol, including GET, POST, PUT, DELETE, etc. \n",
    "\n",
    "Of these, the most common are GET and POST, with the GET method typically used for data retrieval and the POST method used to make changes in the server's database. We shall return to GET again in our Wikipedia web scraping tutorial, which is usually the only method used for web scraping. \n",
    "\n",
    "We won't go too much into what some of these other header fields mean, which you should be able to find references for easily online (etc: https://en.wikipedia.org/wiki/List_of_HTTP_header_fields). \n",
    "\n",
    "Nonetheless, when troubleshooting your code for extracting data from the web, you'll often find yourself examining the header fields for both the request and response messages. "
   ]
  },
  {
   "cell_type": "markdown",
   "metadata": {
    "collapsed": true
   },
   "source": [
    "To round out this section, let's briefly examine the headers associated with the response (rather than the request) with the techniques we've learned, which are directly available in the main response object we have been working with. \n",
    "\n",
    "\n"
   ]
  },
  {
   "cell_type": "code",
   "execution_count": 24,
   "metadata": {
    "collapsed": false
   },
   "outputs": [
    {
     "name": "stdout",
     "output_type": "stream",
     "text": [
      "ItemsView({'Content-Length': '7416', 'Cache-Control': 'private, max-age=0', 'P3P': 'CP=\"This is not a P3P policy! See https://www.google.com/support/accounts/answer/151657?hl=en for more info.\"', 'Date': 'Wed, 24 Feb 2016 21:00:11 GMT', 'Server': 'gws', 'Expires': '-1', 'Content-Encoding': 'gzip', 'X-Frame-Options': 'SAMEORIGIN', 'Set-Cookie': 'NID=76=Um_S_Y4K8CeXmzPJ-Hz6iGJhYUhP4SobYPzjoVHWH3_SvXrDV6ut_drCpjJ6y_MFigmeIYNmo53hQP2zx48PY1dlS-ztmYBXnW4IiNyOO1hx6YknEzcMICnlSjCYvTUR70olu__EZ4r-QA; expires=Thu, 25-Aug-2016 21:00:11 GMT; path=/; domain=.google.com; HttpOnly', 'Content-Type': 'text/html; charset=ISO-8859-1', 'X-XSS-Protection': '1; mode=block'})\n"
     ]
    }
   ],
   "source": [
    "pprint(response.headers.items())"
   ]
  },
  {
   "cell_type": "markdown",
   "metadata": {},
   "source": [
    "### End Note: Browser vs. Console\n",
    "\n",
    "From the server's perspective, the request it receives from your browser is not so different from the request received from your console (though some servers use a range of methods to determine if the request comes from a \"valid\" person using a browser, versus an automated program.) \n",
    "\n",
    "The server relies on the header request fields to determine what to return, and includes a number of header fields in its response, in addition to its content. \n",
    "\n",
    "The main difference is that in the browser, you interact with the server via a graphical user interface (GUI), so that much of the header specification, both in the request and response, remain invisible to you. In your console, you often have to specify or parse this content manually - while this involves more work, it also allows you a great deal more flexibility, and the ability to automate certain tasks. \n",
    "\n"
   ]
  },
  {
   "cell_type": "markdown",
   "metadata": {},
   "source": [
    "## 2) Web terminology: some important distinctions"
   ]
  },
  {
   "cell_type": "markdown",
   "metadata": {},
   "source": [
    "## 2b) Menagerie of tools: crawlers, spiders, scrapers - what's the difference? \n",
    "Web crawlers or spiders are used by search engines to index the web. The metaphor is that of an automated bot with long, spindly legs, traversing from hyperlink to hyperlink. Search engines use these crawlers to continually traverse the web and index new or changed content, so that our search queries reflect the most recent and up-to-date content. \n",
    "\n",
    "Web scraping is a little different. While many of the tools used may be identical or similar, web scraping \"focuses more on the transformation of unstructured data on the web, typically in HTML format, into structured data that can be stored and analyzed in a central local database or spreadsheet.\" (https://en.wikipedia.org/wiki/Web_scraping) In other words, web scraping focuses on translating data into a form ready for storage and analysis (versus just indexing). \n",
    "\n",
    "In many cases, to the server, these processes look somewhat identical. Resources are sent in response to requests. Rather, it is what is done to those resources after they are sent, and the overall goal, that differentiates web crawling and scraping. \n",
    "\n",
    "Most websites want crawlers to find them so their pages appear on popular search engines, but see no clear-cut benefit when their content is parsed and converted into usable data. Beyond research, many companies also use web scraping (in a legal grey area or illegally) to repurpose content, etc, a real estate website scraping data from Craigslist to re-post as listings on their website. "
   ]
  },
  {
   "cell_type": "markdown",
   "metadata": {},
   "source": [
    "## 4) Considerate robots and legality \n",
    "\n",
    "__Typically, in starting a new web scraping project, you'll want to follow these steps:__  \n",
    "1) Find the websites' robots.txt and do not access those pages through your bot  \n",
    "2) Make sure your bot does not make too many requests in a specific period (etc. by using Python's sleep.wait function)   \n",
    "3) Look up the website's term of use or terms of service. \n",
    "\n",
    "We'll discuss each of these briefly."
   ]
  },
  {
   "cell_type": "markdown",
   "metadata": {},
   "source": [
    "### What data owners care about\n",
    "\n",
    "__Data owners are concerned with:__  \n",
    "1) Keeping their website up  \n",
    "2) Protecting the commercial value of their data   \n",
    "\n",
    "Their policies and responses differ with respect to these two areas. You'll need to do some research to determine what is appropriate with regards to your research. \n",
    "\n",
    "#### 1) Keeping their website up\n",
    "Most commercial websites have strategies to throttle or block IPs that make too many requests within a fixed amount of time. Because a bot can make a large number of requests in a small amount of time (etc. entering 100 different terms into Google in one second), servers are able to determine if traffic is coming from a bot or a person (among many other methods). For companies that rely on advertising, like Google or Twitter, these requests do not represent \"human eyeballs\" and need to be filtered out from their bill to advertisers. \n",
    "\n",
    "In order to keep their site up and running, companies may block your IP temporarily or permanently if they detect too many requests coming from your IP, or other signs that requests are being made by a bot instead of a person. If you systematically down a site (such as sending millions of requests to an official government site), there is the small chance your actions may be interpreted maliciously (and regarded as hacking), with risk of prosecution. \n",
    "\n",
    "#### 2) Protecting the commercial value of their data\n",
    "Companies are also typically very protective of their data, especially data that ties directly into how they make money. A listings site (like Craigslist), for instance, would lose traffic if listings on its site were poached and transfered to a competitor, or if a rival company used scraping tools to derive lists of users to contact. For this reason, companies' term of use agreements are typically very restrictive of what you can do with their data. \n",
    "\n",
    "Different companies may have a range of responses to your scraping, depending on what you do with the data. Typically, repurposing the data for a rival application or business will trigger a strong response from the company (i.e. legal attention). Publishing any analysis or results, either in a formal academic journal or on a blog or webpage, may be of less concern, though legal attention is still possible. "
   ]
  },
  {
   "cell_type": "markdown",
   "metadata": {},
   "source": [
    "### robots.txt: internet convention\n",
    "\n",
    "The robots.txt file is typically located in the root folder of the site, with instructions to various services (User-agents) on what they are not allowed to scrape. \n",
    "\n",
    "Typically, the robots.txt file is more geared towards search engines (and their crawlers) more than anything else. \n",
    "\n",
    "However, companies and agencies typically will not want you to scrape any pages that they disallow search engines from accessing. Scraping these pages makes it more likely for your IP to be detected and blocked (along with other possible actions.) \n",
    "\n",
    "Below is an example of reddit's robots.txt file: \n",
    "https://www.reddit.com/robots.txt"
   ]
  },
  {
   "cell_type": "raw",
   "metadata": {},
   "source": [
    "# 80legs\n",
    "User-agent: 008\n",
    "Disallow: /\n",
    "\n",
    "User-Agent: bender\n",
    "Disallow: /my_shiny_metal_ass\n",
    "\n",
    "User-Agent: Gort\n",
    "Disallow: /earth\n",
    "\n",
    "User-Agent: *  \n",
    "Disallow: /*.json  \n",
    "Disallow: /*.json-compact  \n",
    "Disallow: /*.json-html  \n",
    "Disallow: /*.xml  \n",
    "Disallow: /*.rss  \n",
    "Disallow: /*.i  \n",
    "Disallow: /*.embed  \n",
    "Disallow: /*/comments/*?*sort=  \n",
    "Disallow: /r/*/comments/*/*/c*  \n",
    "Disallow: /comments/*/*/c*  \n",
    "Disallow: /r/*/submit  \n",
    "Disallow: /message/compose*  \n",
    "Disallow: /api   \n",
    "Disallow: /post  \n",
    "Disallow: /submit  \n",
    "Disallow: /goto  \n",
    "Disallow: /*after=  \n",
    "Disallow: /*before=  \n",
    "Disallow: /domain/*t=  \n",
    "Disallow: /login  \n",
    "Disallow: /reddits/search  \n",
    "Disallow: /search  \n",
    "Disallow: /r/*/search  \n",
    "Allow: /  "
   ]
  },
  {
   "cell_type": "markdown",
   "metadata": {},
   "source": [
    "User blahblahblah provides a concise description of how to read the robots.txt file:\n",
    "https://www.reddit.com/r/learnprogramming/comments/3l1lcq/how_do_you_find_out_if_a_website_is_scrapable/"
   ]
  },
  {
   "cell_type": "raw",
   "metadata": {},
   "source": [
    "- The bot that calls itself 008 (apparently from 80legs) isn't allowed to access anything\n",
    "- bender is not allowed to visit my_shiny_metal_ass (it's a Futurama joke, the page doesn't actually exist)\n",
    "- Gort isn't allowed to visit Earth (another joke, from The Day the Earth Stood Still)\n",
    "- Other scrapers should avoid checking the API methods or \"compose message\" or 'search\" or the \"over 18?\" page (because those aren't something you really want showing up in Google), but they're allowed to visit anything else."
   ]
  },
  {
   "cell_type": "markdown",
   "metadata": {},
   "source": [
    "In general, your bot will fall into the * wildcard category of what the site generally do not want bots to access. You should make sure your scraper does not access any of those pages, etc. www.reddit.com/login etc. "
   ]
  },
  {
   "cell_type": "markdown",
   "metadata": {},
   "source": [
    "\n",
    "# Let's get started!\n"
   ]
  },
  {
   "cell_type": "markdown",
   "metadata": {},
   "source": [
    "\n",
    "Now that we've gone through major concepts and tried out a few code snippets, let's hone our Python skills and build two basic bots, one on Wikipedia, and one using Twitter's API. \n",
    "\n",
    "## 6) Tutorial 1: Creating a friendly bot on Wikipedia\n",
    "\n",
    "Our first use case involves scraping some basic information about technology companies from Wikipedia. Say you are the chief innovation officer of a small city in the San Francisco Bay Area. A number of large-scale local investments in office space have taken place, with space opening up over the next few years. You wish to be part of the trend of technology companies moving out of San Francisco and Silicon Valley. You have been networking and talking to companies at events and conferences, but would like a more systematic way of identifying companies to focus on. \n",
    "\n",
    "You notice a list of 179 technology companies based in the San Francisco area on Wikipedia:\n",
    "https://en.wikipedia.org/wiki/Category:Technology_companies_based_in_the_San_Francisco_Bay_Area\n",
    "\n",
    "Your goal is to scrape basic useful information about each company in a list, into which you can do some summary statistics to identify companies or even industries you are interested in focusing on. \n",
    "\n",
    "** In particular, you want to know: **  \n",
    "1) what industry they are in  \n",
    "2) where the company is currently headquartered  \n",
    "3) the number of employees   \n",
    "4) website address of the company  \n",
    "\n",
    "This will allow you to know the current and budding tech hubs in the Bay area, get a better sense of your competition, and the number of jobs you can attract to your city. For convenience, you also collate the website addresses of the companies to pull into your list. "
   ]
  },
  {
   "cell_type": "markdown",
   "metadata": {},
   "source": [
    "## Examining the webpage structure\n",
    "\n",
    "The first step is to figure out whether and how easily the data you want can be extracted, first by examining the webpage structure in your browser, then on your console. \n",
    "\n",
    "You can inspect any element in your browser by right-clicking it and selecting inspect, which will bring up the Developer Tools pane. \n",
    "\n",
    "Typically, you'll first want to identify the element that you want to pull data from. Next, you'll need to figure out a strategy to locate and \"crawl\" through relevant pages. In a forum, for instance, a bot may be set up to click the \"Next page\" button once all posts on a single page have been visited and saved. More advanced strategies would include visiting all hyperlinks on every page visited, so that the bot continually updates the list of links to crawl through. \n",
    "\n",
    "#### Inspecting the Index page\n",
    "First, you will want to inspect the element associated with each link we want to visit on the index page.\n",
    "\n",
    "<img src=\"images/inspect_index.png\">\n",
    "\n",
    "Next, you will want to inspect the element with the data we would like to extract, corresponding to each link on the index page.\n",
    "\n",
    "#### Inspecting each individual page\n",
    "<img src=\"images/inspect_page.png\">\n",
    "\n",
    "In our case, it looks like the format of the data in both the index and individual pages are regular enough for us to be able to parse them programatically. We next confirm this by interacting with both the index and individual pages in our console. "
   ]
  },
  {
   "cell_type": "markdown",
   "metadata": {},
   "source": [
    "## Interacting with the webpage through the console \n",
    "\n",
    "After examining the webpage structure through your browser, now it's time to interact with the underlying html code (what you see in the inspect element page) directly in your console. Both processes are useful to coming up with a strategy of how (and whether) data from the website can be scraped. \n",
    "\n",
    "First, import requests and BeautifulSoup. Downloading a html copy of the site is as simple as: "
   ]
  },
  {
   "cell_type": "code",
   "execution_count": 25,
   "metadata": {
    "collapsed": false
   },
   "outputs": [
    {
     "name": "stdout",
     "output_type": "stream",
     "text": [
      "b'<!DOCTYPE html>\\n<html lang=\"en\" dir=\"ltr\" class=\"client-nojs\">\\n<head>\\n<meta charset=\"UTF-8\" />\\n<title>Category:Technology companies based in the San Francisco Bay Area - Wikipedia, the free encyclopedia</title>\\n<script>document.documentElement.className = document.documentElement.className.replace( '\n"
     ]
    }
   ],
   "source": [
    "from bs4 import BeautifulSoup\n",
    "\n",
    "r = requests.get('http://en.wikipedia.org/wiki/Category:Technology_companies_based_in_the_San_Francisco_Bay_Area')\n",
    "print(r.content[0:300])"
   ]
  },
  {
   "cell_type": "markdown",
   "metadata": {},
   "source": [
    "Once you've downloaded the html file, you'll now want to pass it into BeautifulSoup. BeautifulSoup converts the html file in an easily searchable and navigable structure, which you'll see in our examples below. "
   ]
  },
  {
   "cell_type": "code",
   "execution_count": 26,
   "metadata": {
    "collapsed": false
   },
   "outputs": [
    {
     "name": "stderr",
     "output_type": "stream",
     "text": [
      "/Users/dillon/anaconda/lib/python3.5/site-packages/bs4/__init__.py:166: UserWarning: No parser was explicitly specified, so I'm using the best available HTML parser for this system (\"lxml\"). This usually isn't a problem, but if you run this code on another system, or in a different virtual environment, it may use a different parser and behave differently.\n",
      "\n",
      "To get rid of this warning, change this:\n",
      "\n",
      " BeautifulSoup([your markup])\n",
      "\n",
      "to this:\n",
      "\n",
      " BeautifulSoup([your markup], \"lxml\")\n",
      "\n",
      "  markup_type=markup_type))\n"
     ]
    },
    {
     "data": {
      "text/plain": [
       "bs4.BeautifulSoup"
      ]
     },
     "execution_count": 26,
     "metadata": {},
     "output_type": "execute_result"
    }
   ],
   "source": [
    "soup = BeautifulSoup(r.content)\n",
    "type(soup)"
   ]
  },
  {
   "cell_type": "markdown",
   "metadata": {},
   "source": [
    "You should have the browser page open side by step, identifying the elements you want to extract using the Inspect element tool, and then using BeautifulSoup's functions to see if you can retrieve them in the console. You can also scroll over each element in the Elements tab to see what they correspond to on the web page. "
   ]
  },
  {
   "cell_type": "markdown",
   "metadata": {},
   "source": [
    "If you scroll over the div with id \"mw-pages\" on the Elements tab, you'll see that it corresponds to the entire \"Technology companies based in the San Francisco Bay Area\" pane. \n",
    "\n",
    "Let's first try to select this, and confirm we've selected the right element by printing out the result. In the code, we are telling soup to find any elements with the \"div\" element tag, with id \"mw-pages\" that we saw in the inspect element pane. \n"
   ]
  },
  {
   "cell_type": "code",
   "execution_count": 27,
   "metadata": {
    "collapsed": false
   },
   "outputs": [
    {
     "name": "stdout",
     "output_type": "stream",
     "text": [
      "<class 'bs4.element.ResultSet'>\n"
     ]
    }
   ],
   "source": [
    "company_section = soup.findAll(\"div\", {\"id\": \"mw-pages\"})\n",
    "print(type(company_section))"
   ]
  },
  {
   "cell_type": "markdown",
   "metadata": {},
   "source": [
    "As we navigate the result returned, we see that it is a \"ResultSet\", which suggests that it can be retrieved by index. You can also just try it out.  "
   ]
  },
  {
   "cell_type": "code",
   "execution_count": 28,
   "metadata": {
    "collapsed": false
   },
   "outputs": [
    {
     "name": "stdout",
     "output_type": "stream",
     "text": [
      "<div id=\"mw-pages\">\n",
      "<h2><span id=\"Pages_in_category\"></span>Pages in category \"Technology companies based in the San Francisco Bay Area\"</h2>\n",
      "<p>The following 179 pages are in this category, out of 179 total. This list may not reflect recent changes (<a href=\"/wiki/Wikipedia:FAQ/Categorization#Why_might_a_category_list_not_be_up_to_date.3F\" title=\"Wikipedia:FAQ/Categorization\">learn more</a>).\n",
      "</p><div class=\"mw-content-ltr\" dir=\"ltr\" lang=\"en\"><div class=\"mw-category\"><div class=\"mw-category-group\"><h3>3</h3>\n",
      "<ul><li><a href=\"/wiki/HP_3PAR\" title=\"HP 3PAR\">HP 3PAR</a></li></ul></div><div class=\"mw-category-group\"><h3>A</h3>\n",
      "<ul><li><a href=\"/wiki/Achronix\" title=\"Achronix\">Achronix</a></li>\n",
      "<li><a href=\"/wiki/Advanced_Micro_Devices\" title=\"Advanced Micro Devices\">Advanced Micro Devices</a></li>\n",
      "<li><a href=\"/wiki/Aerohive_Networks\" title=\"Aerohive Networks\">Aerohive Networks</a></li>\n",
      "<li><a href=\"/wiki/Affymetrix\" title=\"Affymetrix\">Affymetrix</a></li>\n",
      "<li><a href=\"/wiki/Agami_Systems\" title=\"Agami Systems\">Agami Systems</a></li>\n",
      "<li><a href=\"/wiki/Agilent_Technologies\" title=\"Agilent Technologies\">Agilent Technologies</a></li>\n",
      "<li><a href=\"/wiki/AirTouch\" title=\"AirTouch\">AirTouch</a></li>\n",
      "<li><a href=\"/wiki/AKM_Semiconductor,_Inc.\" title=\"AKM Semiconductor, Inc.\">AKM Semiconductor, Inc.</a></li>\n",
      "<li><a href=\"/wiki/All_Power_Labs\" title=\"All Power Labs\">All Power Labs</a></li>\n",
      "<li><a href=\"/wiki/Alphabet_Energy\" title=\"Alphabet Energy\">Alphabet Energy</a></li>\n",
      "<li><a href=\"/wiki/AlphaSense\" title=\"AlphaSense\">AlphaSense</a></li>\n",
      "<li><a href=\"/wiki/Altamira_Software\" title=\"Altamira Software\">Altamira Software</a></li>\n",
      "<li><a href=\"/wiki/AltaVista\" title=\"AltaVista\">AltaVista</a></li>\n",
      "<li><a href=\"/wiki/Altos_Computer_Systems\" title=\"Altos Computer Systems\">Altos Computer Systems</a></li>\n",
      "<li><a href=\"/wiki/Alza\" title=\"Alza\">Alza</a></li>\n",
      "<li><a href=\"/wiki/AMAX_Information_Technologies\" title=\"AMAX Information Technologies\">AMAX Information Technologies</a></li>\n",
      "<li><a href=\"/wiki/American_Logic_Machines\" title=\"American Logic Machines\">American Logic Machines</a></li>\n",
      "<li><a href=\"/wiki/Amiga_Corporation\" title=\"Amiga Corporation\">Amiga Corporation</a></li>\n",
      "<li><a href=\"/wiki/Antec\" title=\"Antec\">Antec</a></li>\n",
      "<li><a href=\"/wiki/Anthera_Pharmaceuticals\" title=\"Anthera Pharmaceuticals\">Anthera Pharmaceuticals</a></li>\n",
      "<li><a href=\"/wiki/Apple_Inc.\" title=\"Apple Inc.\">Apple Inc.</a></li>\n",
      "<li><a href=\"/wiki/ASSIA_(company)\" title=\"ASSIA (company)\">ASSIA (company)</a></li>\n",
      "<li><a href=\"/wiki/Audience_(company)\" title=\"Audience (company)\">Audience (company)</a></li>\n",
      "<li><a href=\"/wiki/AuraOne_Systems\" title=\"AuraOne Systems\">AuraOne Systems</a></li>\n",
      "<li><a href=\"/wiki/Aureal_Semiconductor\" title=\"Aureal Semiconductor\">Aureal Semiconductor</a></li></ul></div><div class=\"mw-category-group\"><h3>B</h3>\n",
      "<ul><li><a href=\"/wiki/BioMarin_Pharmaceutical\" title=\"BioMarin Pharmaceutical\">BioMarin Pharmaceutical</a></li>\n",
      "<li><a href=\"/wiki/BioPharm_(US_company)\" title=\"BioPharm (US company)\">BioPharm (US company)</a></li>\n",
      "<li><a href=\"/wiki/Biosearch_Technologies\" title=\"Biosearch Technologies\">Biosearch Technologies</a></li>\n",
      "<li><a href=\"/wiki/BrightSource_Energy\" title=\"BrightSource Energy\">BrightSource Energy</a></li>\n",
      "<li><a href=\"/wiki/Br%C3%B8derbund\" title=\"Brøderbund\">Brøderbund</a></li>\n",
      "<li><span class=\"redirect-in-category\"><a class=\"mw-redirect\" href=\"/wiki/Byte_Shop\" title=\"Byte Shop\">Byte Shop</a></span></li></ul></div><div class=\"mw-category-group\"><h3>C</h3>\n",
      "<ul><li><a href=\"/wiki/Cask_(company)\" title=\"Cask (company)\">Cask (company)</a></li>\n",
      "<li><a href=\"/wiki/Cerego\" title=\"Cerego\">Cerego</a></li>\n",
      "<li><a href=\"/wiki/Cetus_Corporation\" title=\"Cetus Corporation\">Cetus Corporation</a></li>\n",
      "<li><a href=\"/wiki/Cisco_Systems\" title=\"Cisco Systems\">Cisco Systems</a></li>\n",
      "<li><a href=\"/wiki/Clean_Edge\" title=\"Clean Edge\">Clean Edge</a></li>\n",
      "<li><a href=\"/wiki/Complete_Genomics\" title=\"Complete Genomics\">Complete Genomics</a></li>\n",
      "<li><a href=\"/wiki/Corsair_Components\" title=\"Corsair Components\">Corsair Components</a></li>\n",
      "<li><a href=\"/wiki/Covad\" title=\"Covad\">Covad</a></li>\n",
      "<li><a href=\"/wiki/Crossbar_(computer_hardware_manufacturer)\" title=\"Crossbar (computer hardware manufacturer)\">Crossbar (computer hardware manufacturer)</a></li>\n",
      "<li><a href=\"/wiki/Cutter_Laboratories\" title=\"Cutter Laboratories\">Cutter Laboratories</a></li>\n",
      "<li><a href=\"/wiki/Cypress_Semiconductor\" title=\"Cypress Semiconductor\">Cypress Semiconductor</a></li></ul></div><div class=\"mw-category-group\"><h3>D</h3>\n",
      "<ul><li><a href=\"/wiki/Deeplearning4j\" title=\"Deeplearning4j\">Deeplearning4j</a></li>\n",
      "<li><a href=\"/wiki/DiscoveRx\" title=\"DiscoveRx\">DiscoveRx</a></li>\n",
      "<li><a href=\"/wiki/DNA2.0\" title=\"DNA2.0\">DNA2.0</a></li>\n",
      "<li><a href=\"/wiki/DOER_Marine\" title=\"DOER Marine\">DOER Marine</a></li>\n",
      "<li><a href=\"/wiki/Dolby_Laboratories\" title=\"Dolby Laboratories\">Dolby Laboratories</a></li>\n",
      "<li><a href=\"/wiki/Double_Robotics\" title=\"Double Robotics\">Double Robotics</a></li>\n",
      "<li><a href=\"/wiki/Dust_Networks\" title=\"Dust Networks\">Dust Networks</a></li></ul></div><div class=\"mw-category-group\"><h3>E</h3>\n",
      "<ul><li><a href=\"/wiki/Electronics_for_Imaging\" title=\"Electronics for Imaging\">Electronics for Imaging</a></li>\n",
      "<li><a href=\"/wiki/Energy_Recovery_Inc.\" title=\"Energy Recovery Inc.\">Energy Recovery Inc.</a></li>\n",
      "<li><a href=\"/wiki/Enphase_Energy\" title=\"Enphase Energy\">Enphase Energy</a></li>\n",
      "<li><a href=\"/wiki/Envivio\" title=\"Envivio\">Envivio</a></li>\n",
      "<li><a href=\"/wiki/Etec_Systems,_Inc.\" title=\"Etec Systems, Inc.\">Etec Systems, Inc.</a></li>\n",
      "<li><a href=\"/wiki/Everex\" title=\"Everex\">Everex</a></li>\n",
      "<li><a href=\"/wiki/Exidy\" title=\"Exidy\">Exidy</a></li></ul></div><div class=\"mw-category-group\"><h3>F</h3>\n",
      "<ul><li><a href=\"/wiki/Fairchild_Semiconductor\" title=\"Fairchild Semiconductor\">Fairchild Semiconductor</a></li>\n",
      "<li><a href=\"/wiki/Fortify_Software\" title=\"Fortify Software\">Fortify Software</a></li>\n",
      "<li><a href=\"/wiki/Four-Phase_Systems\" title=\"Four-Phase Systems\">Four-Phase Systems</a></li>\n",
      "<li><a href=\"/wiki/Foveon\" title=\"Foveon\">Foveon</a></li>\n",
      "<li><a href=\"/wiki/Franklin_Ophthalmic_Instruments\" title=\"Franklin Ophthalmic Instruments\">Franklin Ophthalmic Instruments</a></li></ul></div><div class=\"mw-category-group\"><h3>G</h3>\n",
      "<ul><li><a href=\"/wiki/Genentech\" title=\"Genentech\">Genentech</a></li>\n",
      "<li><a href=\"/wiki/General_Magic\" title=\"General Magic\">General Magic</a></li>\n",
      "<li><a href=\"/wiki/Genesys_(company)\" title=\"Genesys (company)\">Genesys (company)</a></li>\n",
      "<li><a href=\"/wiki/GlassPoint_Solar\" title=\"GlassPoint Solar\">GlassPoint Solar</a></li>\n",
      "<li><a href=\"/wiki/GlobalFoundries\" title=\"GlobalFoundries\">GlobalFoundries</a></li>\n",
      "<li><a href=\"/wiki/Green_Charge_Networks\" title=\"Green Charge Networks\">Green Charge Networks</a></li>\n",
      "<li><a href=\"/wiki/Gusto_(software)\" title=\"Gusto (software)\">Gusto (software)</a></li></ul></div><div class=\"mw-category-group\"><h3>H</h3>\n",
      "<ul><li><a href=\"/wiki/Handspring_(company)\" title=\"Handspring (company)\">Handspring (company)</a></li>\n",
      "<li><a href=\"/wiki/Hercules_Computer_Technology\" title=\"Hercules Computer Technology\">Hercules Computer Technology</a></li>\n",
      "<li><a href=\"/wiki/Hewlett_Packard_Enterprise\" title=\"Hewlett Packard Enterprise\">Hewlett Packard Enterprise</a></li>\n",
      "<li><a href=\"/wiki/Hewlett-Packard\" title=\"Hewlett-Packard\">Hewlett-Packard</a></li>\n",
      "<li><a href=\"/wiki/Hoopla_Software\" title=\"Hoopla Software\">Hoopla Software</a></li>\n",
      "<li><a href=\"/wiki/HP_Inc.\" title=\"HP Inc.\">HP Inc.</a></li>\n",
      "<li><a href=\"/wiki/Human_Engineered_Software\" title=\"Human Engineered Software\">Human Engineered Software</a></li>\n",
      "<li><a href=\"/wiki/Hurricane_Electric\" title=\"Hurricane Electric\">Hurricane Electric</a></li></ul></div><div class=\"mw-category-group\"><h3>I</h3>\n",
      "<ul><li><a href=\"/wiki/Ikanos_Communications\" title=\"Ikanos Communications\">Ikanos Communications</a></li>\n",
      "<li><a href=\"/wiki/Impax_Laboratories\" title=\"Impax Laboratories\">Impax Laboratories</a></li>\n",
      "<li><a href=\"/wiki/Intel\" title=\"Intel\">Intel</a></li>\n",
      "<li><a href=\"/wiki/InvenSense\" title=\"InvenSense\">InvenSense</a></li>\n",
      "<li><a href=\"/wiki/InVision_Technologies\" title=\"InVision Technologies\">InVision Technologies</a></li></ul></div><div class=\"mw-category-group\"><h3>J</h3>\n",
      "<ul><li><a href=\"/wiki/Jennerex\" title=\"Jennerex\">Jennerex</a></li>\n",
      "<li><a href=\"/wiki/Juniper_Networks\" title=\"Juniper Networks\">Juniper Networks</a></li></ul></div><div class=\"mw-category-group\"><h3>K</h3>\n",
      "<ul><li><a href=\"/wiki/Kiva_Software\" title=\"Kiva Software\">Kiva Software</a></li>\n",
      "<li><a href=\"/wiki/KleenSpeed_Technologies\" title=\"KleenSpeed Technologies\">KleenSpeed Technologies</a></li>\n",
      "<li><a href=\"/wiki/Kosan_Biosciences\" title=\"Kosan Biosciences\">Kosan Biosciences</a></li></ul></div><div class=\"mw-category-group\"><h3>L</h3>\n",
      "<ul><li><a href=\"/wiki/Lam_Research\" title=\"Lam Research\">Lam Research</a></li>\n",
      "<li><a href=\"/wiki/LeapFrog_Enterprises\" title=\"LeapFrog Enterprises\">LeapFrog Enterprises</a></li>\n",
      "<li><a href=\"/wiki/Lexar\" title=\"Lexar\">Lexar</a></li>\n",
      "<li><a href=\"/wiki/Lightwave_Electronics_Corporation\" title=\"Lightwave Electronics Corporation\">Lightwave Electronics Corporation</a></li>\n",
      "<li><a href=\"/wiki/Linear_Technology\" title=\"Linear Technology\">Linear Technology</a></li></ul></div><div class=\"mw-category-group\"><h3>M</h3>\n",
      "<ul><li><a href=\"/wiki/Made_In_Space,_Inc.\" title=\"Made In Space, Inc.\">Made In Space, Inc.</a></li>\n",
      "<li><a href=\"/wiki/Makani_Power\" title=\"Makani Power\">Makani Power</a></li>\n",
      "<li><a href=\"/wiki/Maxim_Integrated\" title=\"Maxim Integrated\">Maxim Integrated</a></li>\n",
      "<li><a href=\"/wiki/Intel_Security\" title=\"Intel Security\">Intel Security</a></li>\n",
      "<li><a href=\"/wiki/McCune_Audio/Video/Lighting\" title=\"McCune Audio/Video/Lighting\">McCune Audio/Video/Lighting</a></li>\n",
      "<li><a href=\"/wiki/Media_Vision\" title=\"Media Vision\">Media Vision</a></li>\n",
      "<li><a href=\"/wiki/Medivation\" title=\"Medivation\">Medivation</a></li>\n",
      "<li><a href=\"/wiki/Meka_Robotics\" title=\"Meka Robotics\">Meka Robotics</a></li>\n",
      "<li><a href=\"/wiki/Mendel_Biotechnology,_Inc.\" title=\"Mendel Biotechnology, Inc.\">Mendel Biotechnology, Inc.</a></li>\n",
      "<li><a href=\"/wiki/Meru_Networks\" title=\"Meru Networks\">Meru Networks</a></li>\n",
      "<li><a href=\"/wiki/MeWe\" title=\"MeWe\">MeWe</a></li>\n",
      "<li><a href=\"/wiki/Meyer_Sound_Laboratories\" title=\"Meyer Sound Laboratories\">Meyer Sound Laboratories</a></li>\n",
      "<li><a href=\"/wiki/MongoLab\" title=\"MongoLab\">MongoLab</a></li>\n",
      "<li><a href=\"/wiki/Mozilla_Corporation\" title=\"Mozilla Corporation\">Mozilla Corporation</a></li></ul></div><div class=\"mw-category-group\"><h3>N</h3>\n",
      "<ul><li><a href=\"/wiki/Nanosolar\" title=\"Nanosolar\">Nanosolar</a></li>\n",
      "<li><a href=\"/wiki/National_Semiconductor\" title=\"National Semiconductor\">National Semiconductor</a></li>\n",
      "<li><a href=\"/wiki/Navigenics\" title=\"Navigenics\">Navigenics</a></li>\n",
      "<li><a href=\"/wiki/Netscape\" title=\"Netscape\">Netscape</a></li>\n",
      "<li><a href=\"/wiki/NeXT\" title=\"NeXT\">NeXT</a></li>\n",
      "<li><a href=\"/wiki/Next_Thing_Co.\" title=\"Next Thing Co.\">Next Thing Co.</a></li>\n",
      "<li><a href=\"/wiki/NovaBay_Pharmaceuticals\" title=\"NovaBay Pharmaceuticals\">NovaBay Pharmaceuticals</a></li>\n",
      "<li><a href=\"/wiki/Numenta\" title=\"Numenta\">Numenta</a></li></ul></div><div class=\"mw-category-group\"><h3>O</h3>\n",
      "<ul><li><a href=\"/wiki/Oberheim_Electronics\" title=\"Oberheim Electronics\">Oberheim Electronics</a></li>\n",
      "<li><a href=\"/wiki/OLogic\" title=\"OLogic\">OLogic</a></li>\n",
      "<li><a href=\"/wiki/OpenAI\" title=\"OpenAI\">OpenAI</a></li>\n",
      "<li><a href=\"/wiki/Oracle_Corporation\" title=\"Oracle Corporation\">Oracle Corporation</a></li>\n",
      "<li><a href=\"/wiki/Osborne_Computer_Corporation\" title=\"Osborne Computer Corporation\">Osborne Computer Corporation</a></li>\n",
      "<li><a href=\"/wiki/OSIsoft\" title=\"OSIsoft\">OSIsoft</a></li></ul></div><div class=\"mw-category-group\"><h3>P</h3>\n",
      "<ul><li><a href=\"/wiki/P.A._Semi\" title=\"P.A. Semi\">P.A. Semi</a></li>\n",
      "<li><span class=\"redirect-in-category\"><a class=\"mw-redirect\" href=\"/wiki/PA_Semiconductor\" title=\"PA Semiconductor\">PA Semiconductor</a></span></li>\n",
      "<li><a href=\"/wiki/Palm,_Inc.\" title=\"Palm, Inc.\">Palm, Inc.</a></li>\n",
      "<li><a href=\"/wiki/Palo_Alto_Networks\" title=\"Palo Alto Networks\">Palo Alto Networks</a></li>\n",
      "<li><a href=\"/wiki/Peninsula_Engineering_Group,_Inc.\" title=\"Peninsula Engineering Group, Inc.\">Peninsula Engineering Group, Inc.</a></li>\n",
      "<li><a href=\"/wiki/Primus_Power\" title=\"Primus Power\">Primus Power</a></li>\n",
      "<li><a href=\"/wiki/Processor_Technology\" title=\"Processor Technology\">Processor Technology</a></li>\n",
      "<li><a href=\"/wiki/Prosetta\" title=\"Prosetta\">Prosetta</a></li>\n",
      "<li><a href=\"/wiki/Pyramid_Technology\" title=\"Pyramid Technology\">Pyramid Technology</a></li></ul></div><div class=\"mw-category-group\"><h3>Q</h3>\n",
      "<ul><li><a href=\"/wiki/Qualcomm_Atheros\" title=\"Qualcomm Atheros\">Qualcomm Atheros</a></li>\n",
      "<li><a href=\"/wiki/Quantum_Effect_Devices\" title=\"Quantum Effect Devices\">Quantum Effect Devices</a></li>\n",
      "<li><a href=\"/wiki/Quark_Pharmaceuticals\" title=\"Quark Pharmaceuticals\">Quark Pharmaceuticals</a></li>\n",
      "<li><a href=\"/wiki/Qume\" title=\"Qume\">Qume</a></li></ul></div><div class=\"mw-category-group\"><h3>R</h3>\n",
      "<ul><li><a href=\"/wiki/Rambus\" title=\"Rambus\">Rambus</a></li>\n",
      "<li><a href=\"/wiki/Recommind\" title=\"Recommind\">Recommind</a></li>\n",
      "<li><a href=\"/wiki/Redwood_Robotics\" title=\"Redwood Robotics\">Redwood Robotics</a></li></ul></div><div class=\"mw-category-group\"><h3>S</h3>\n",
      "<ul><li><a href=\"/wiki/Sangfor_Technologies\" title=\"Sangfor Technologies\">Sangfor Technologies</a></li>\n",
      "<li><a href=\"/wiki/Seagate_Technology\" title=\"Seagate Technology\">Seagate Technology</a></li>\n",
      "<li><a href=\"/wiki/Sensory,_Inc.\" title=\"Sensory, Inc.\">Sensory, Inc.</a></li>\n",
      "<li><a href=\"/wiki/Shugart_Associates\" title=\"Shugart Associates\">Shugart Associates</a></li>\n",
      "<li><a href=\"/wiki/Sidecar_(company)\" title=\"Sidecar (company)\">Sidecar (company)</a></li>\n",
      "<li><a href=\"/wiki/Silego_Technology_Inc.\" title=\"Silego Technology Inc.\">Silego Technology Inc.</a></li>\n",
      "<li><a href=\"/wiki/Silicon_Graphics\" title=\"Silicon Graphics\">Silicon Graphics</a></li>\n",
      "<li><a href=\"/wiki/Siluria_Technologies\" title=\"Siluria Technologies\">Siluria Technologies</a></li>\n",
      "<li><a href=\"/wiki/Skymind\" title=\"Skymind\">Skymind</a></li>\n",
      "<li><a href=\"/wiki/Sling_Media\" title=\"Sling Media\">Sling Media</a></li>\n",
      "<li><a href=\"/wiki/SmugMug\" title=\"SmugMug\">SmugMug</a></li>\n",
      "<li><a href=\"/wiki/SolarCity\" title=\"SolarCity\">SolarCity</a></li>\n",
      "<li><a href=\"/wiki/Solido_Design_Automation\" title=\"Solido Design Automation\">Solido Design Automation</a></li>\n",
      "<li><a href=\"/wiki/SoloPower\" title=\"SoloPower\">SoloPower</a></li>\n",
      "<li><a href=\"/wiki/Solyndra\" title=\"Solyndra\">Solyndra</a></li>\n",
      "<li><a href=\"/wiki/Stem_Cell_Theranostics\" title=\"Stem Cell Theranostics\">Stem Cell Theranostics</a></li>\n",
      "<li><a href=\"/wiki/SunPower\" title=\"SunPower\">SunPower</a></li>\n",
      "<li><a href=\"/wiki/Sunrun\" title=\"Sunrun\">Sunrun</a></li>\n",
      "<li><a href=\"/wiki/Supertek_Computers\" title=\"Supertek Computers\">Supertek Computers</a></li>\n",
      "<li><a href=\"/wiki/Sybase\" title=\"Sybase\">Sybase</a></li>\n",
      "<li><a href=\"/wiki/Synaptics\" title=\"Synaptics\">Synaptics</a></li></ul></div><div class=\"mw-category-group\"><h3>T</h3>\n",
      "<ul><li><a href=\"/wiki/Tabula_(company)\" title=\"Tabula (company)\">Tabula (company)</a></li>\n",
      "<li><a href=\"/wiki/Talari_Networks\" title=\"Talari Networks\">Talari Networks</a></li>\n",
      "<li><a href=\"/wiki/Tandem_Computers\" title=\"Tandem Computers\">Tandem Computers</a></li>\n",
      "<li><a href=\"/wiki/Tengen_(company)\" title=\"Tengen (company)\">Tengen (company)</a></li>\n",
      "<li><a href=\"/wiki/Theranos\" title=\"Theranos\">Theranos</a></li>\n",
      "<li><a href=\"/wiki/Thoratec\" title=\"Thoratec\">Thoratec</a></li>\n",
      "<li><a href=\"/wiki/Tout_(company)\" title=\"Tout (company)\">Tout (company)</a></li>\n",
      "<li><a href=\"/wiki/Treasure_Data\" title=\"Treasure Data\">Treasure Data</a></li></ul></div><div class=\"mw-category-group\"><h3>U</h3>\n",
      "<ul><li><a href=\"/wiki/Ubiquitous_Energy\" title=\"Ubiquitous Energy\">Ubiquitous Energy</a></li>\n",
      "<li><a href=\"/wiki/Umtech\" title=\"Umtech\">Umtech</a></li>\n",
      "<li><a href=\"/wiki/UTStarcom\" title=\"UTStarcom\">UTStarcom</a></li></ul></div><div class=\"mw-category-group\"><h3>V</h3>\n",
      "<ul><li><a href=\"/wiki/Vivante_Corporation\" title=\"Vivante Corporation\">Vivante Corporation</a></li>\n",
      "<li><a href=\"/wiki/Volterra_Semiconductor\" title=\"Volterra Semiconductor\">Volterra Semiconductor</a></li>\n",
      "<li><a href=\"/wiki/VPL_Research\" title=\"VPL Research\">VPL Research</a></li>\n",
      "<li><a href=\"/wiki/VSee\" title=\"VSee\">VSee</a></li>\n",
      "<li><a href=\"/wiki/VW_Electronics_Research_Laboratory\" title=\"VW Electronics Research Laboratory\">VW Electronics Research Laboratory</a></li></ul></div><div class=\"mw-category-group\"><h3>W</h3>\n",
      "<ul><li><a href=\"/wiki/@WalmartLabs\" title=\"@WalmartLabs\">@WalmartLabs</a></li>\n",
      "<li><a href=\"/wiki/Willow_Garage\" title=\"Willow Garage\">Willow Garage</a></li>\n",
      "<li><a href=\"/wiki/Wind_River_Systems\" title=\"Wind River Systems\">Wind River Systems</a></li></ul></div><div class=\"mw-category-group\"><h3>X</h3>\n",
      "<ul><li><a href=\"/wiki/Xilinx\" title=\"Xilinx\">Xilinx</a></li></ul></div><div class=\"mw-category-group\"><h3>Z</h3>\n",
      "<ul><li><a href=\"/wiki/Zenefits\" title=\"Zenefits\">Zenefits</a></li>\n",
      "<li><a href=\"/wiki/Zscaler\" title=\"Zscaler\">Zscaler</a></li></ul></div></div></div>\n",
      "</div>\n"
     ]
    }
   ],
   "source": [
    "print(company_section[0])"
   ]
  },
  {
   "cell_type": "markdown",
   "metadata": {},
   "source": [
    "You can see at the start of the element retrieved that it is indeed a division with id \"mw-pages\" - we can confirm by browsing the text that we've selected the correct element. Next, let's retrieve each section (corresponding to each alphabet), now searching the company section with class type \"mw-category-group\". "
   ]
  },
  {
   "cell_type": "code",
   "execution_count": 29,
   "metadata": {
    "collapsed": false
   },
   "outputs": [
    {
     "name": "stdout",
     "output_type": "stream",
     "text": [
      "26\n",
      "<div class=\"mw-category-group\"><h3>3</h3>\n",
      "<ul><li><a href=\"/wiki/HP_3PAR\" title=\"HP 3PAR\">HP 3PAR</a></li></ul></div>\n"
     ]
    }
   ],
   "source": [
    "each_alphabet = company_section[0].find_all(\"div\", {\"class\":\"mw-category-group\"})\n",
    "print(len(each_alphabet))\n",
    "print(each_alphabet[0])\n"
   ]
  },
  {
   "cell_type": "markdown",
   "metadata": {},
   "source": [
    "Finally, within each section, we want to pull out the individual hyperlinks corresponding to each company. Let's use the second element in the index (the letter \"A\" instead of the category group for \"3\") as it has more than one company."
   ]
  },
  {
   "cell_type": "code",
   "execution_count": 30,
   "metadata": {
    "collapsed": false
   },
   "outputs": [
    {
     "name": "stdout",
     "output_type": "stream",
     "text": [
      "<div class=\"mw-category-group\"><h3>A</h3>\n",
      "<ul><li><a href=\"/wiki/Achronix\" title=\"Achronix\">Achronix</a></li>\n",
      "<li><a href=\"/wiki/Advanced_Micro_Devices\" title=\"Advanced Micro Devices\">Advanced Micro Devices</a></li>\n",
      "<li><a href=\"/wiki/Aerohive_Networks\" title=\"Aerohive Networks\">Aerohive Networks</a></li>\n",
      "<li><a href=\"/wiki/Affymetrix\" title=\"Affymetrix\">Affymetrix</a></li>\n",
      "<li><a href=\"/wiki/Agami_Systems\" title=\"Agami Systems\">Agami Systems</a></li>\n",
      "<li><a href=\"/wiki/Agilent_Technologies\" title=\"Agilent Technologies\">Agilent Technologies</a></li>\n",
      "<li><a href=\"/wiki/AirTouch\" title=\"AirTouch\">AirTouch</a></li>\n",
      "<li><a href=\"/wiki/AKM_Semiconductor,_Inc.\" title=\"AKM Semiconductor, Inc.\">AKM Semiconductor, Inc.</a></li>\n",
      "<li><a href=\"/wiki/All_Power_Labs\" title=\"All Power Labs\">All Power Labs</a></li>\n",
      "<li><a href=\"/wiki/Alphabet_Energy\" title=\"Alphabet Energy\">Alphabet Energy</a></li>\n",
      "<li><a href=\"/wiki/AlphaSense\" title=\"AlphaSense\">AlphaSense</a></li>\n",
      "<li><a href=\"/wiki/Altamira_Software\" title=\"Altamira Software\">Altamira Software</a></li>\n",
      "<li><a href=\"/wiki/AltaVista\" title=\"AltaVista\">AltaVista</a></li>\n",
      "<li><a href=\"/wiki/Altos_Computer_Systems\" title=\"Altos Computer Systems\">Altos Computer Systems</a></li>\n",
      "<li><a href=\"/wiki/Alza\" title=\"Alza\">Alza</a></li>\n",
      "<li><a href=\"/wiki/AMAX_Information_Technologies\" title=\"AMAX Information Technologies\">AMAX Information Technologies</a></li>\n",
      "<li><a href=\"/wiki/American_Logic_Machines\" title=\"American Logic Machines\">American Logic Machines</a></li>\n",
      "<li><a href=\"/wiki/Amiga_Corporation\" title=\"Amiga Corporation\">Amiga Corporation</a></li>\n",
      "<li><a href=\"/wiki/Antec\" title=\"Antec\">Antec</a></li>\n",
      "<li><a href=\"/wiki/Anthera_Pharmaceuticals\" title=\"Anthera Pharmaceuticals\">Anthera Pharmaceuticals</a></li>\n",
      "<li><a href=\"/wiki/Apple_Inc.\" title=\"Apple Inc.\">Apple Inc.</a></li>\n",
      "<li><a href=\"/wiki/ASSIA_(company)\" title=\"ASSIA (company)\">ASSIA (company)</a></li>\n",
      "<li><a href=\"/wiki/Audience_(company)\" title=\"Audience (company)\">Audience (company)</a></li>\n",
      "<li><a href=\"/wiki/AuraOne_Systems\" title=\"AuraOne Systems\">AuraOne Systems</a></li>\n",
      "<li><a href=\"/wiki/Aureal_Semiconductor\" title=\"Aureal Semiconductor\">Aureal Semiconductor</a></li></ul></div>\n"
     ]
    }
   ],
   "source": [
    "alphabet_a = each_alphabet[1]\n",
    "print(alphabet_a)"
   ]
  },
  {
   "cell_type": "markdown",
   "metadata": {},
   "source": [
    "We next want to select all elements with the \"li\" tag, and print them out to make sure they correspond to what we expect to see on the page. "
   ]
  },
  {
   "cell_type": "code",
   "execution_count": 31,
   "metadata": {
    "collapsed": false
   },
   "outputs": [
    {
     "name": "stdout",
     "output_type": "stream",
     "text": [
      "\n",
      "<li><a href=\"/wiki/Achronix\" title=\"Achronix\">Achronix</a></li>\n",
      "\n",
      "<li><a href=\"/wiki/Advanced_Micro_Devices\" title=\"Advanced Micro Devices\">Advanced Micro Devices</a></li>\n",
      "\n",
      "<li><a href=\"/wiki/Aerohive_Networks\" title=\"Aerohive Networks\">Aerohive Networks</a></li>\n",
      "\n",
      "<li><a href=\"/wiki/Affymetrix\" title=\"Affymetrix\">Affymetrix</a></li>\n",
      "\n",
      "<li><a href=\"/wiki/Agami_Systems\" title=\"Agami Systems\">Agami Systems</a></li>\n",
      "\n",
      "<li><a href=\"/wiki/Agilent_Technologies\" title=\"Agilent Technologies\">Agilent Technologies</a></li>\n",
      "\n",
      "<li><a href=\"/wiki/AirTouch\" title=\"AirTouch\">AirTouch</a></li>\n",
      "\n",
      "<li><a href=\"/wiki/AKM_Semiconductor,_Inc.\" title=\"AKM Semiconductor, Inc.\">AKM Semiconductor, Inc.</a></li>\n",
      "\n",
      "<li><a href=\"/wiki/All_Power_Labs\" title=\"All Power Labs\">All Power Labs</a></li>\n",
      "\n",
      "<li><a href=\"/wiki/Alphabet_Energy\" title=\"Alphabet Energy\">Alphabet Energy</a></li>\n",
      "\n",
      "<li><a href=\"/wiki/AlphaSense\" title=\"AlphaSense\">AlphaSense</a></li>\n",
      "\n",
      "<li><a href=\"/wiki/Altamira_Software\" title=\"Altamira Software\">Altamira Software</a></li>\n",
      "\n",
      "<li><a href=\"/wiki/AltaVista\" title=\"AltaVista\">AltaVista</a></li>\n",
      "\n",
      "<li><a href=\"/wiki/Altos_Computer_Systems\" title=\"Altos Computer Systems\">Altos Computer Systems</a></li>\n",
      "\n",
      "<li><a href=\"/wiki/Alza\" title=\"Alza\">Alza</a></li>\n",
      "\n",
      "<li><a href=\"/wiki/AMAX_Information_Technologies\" title=\"AMAX Information Technologies\">AMAX Information Technologies</a></li>\n",
      "\n",
      "<li><a href=\"/wiki/American_Logic_Machines\" title=\"American Logic Machines\">American Logic Machines</a></li>\n",
      "\n",
      "<li><a href=\"/wiki/Amiga_Corporation\" title=\"Amiga Corporation\">Amiga Corporation</a></li>\n",
      "\n",
      "<li><a href=\"/wiki/Antec\" title=\"Antec\">Antec</a></li>\n",
      "\n",
      "<li><a href=\"/wiki/Anthera_Pharmaceuticals\" title=\"Anthera Pharmaceuticals\">Anthera Pharmaceuticals</a></li>\n",
      "\n",
      "<li><a href=\"/wiki/Apple_Inc.\" title=\"Apple Inc.\">Apple Inc.</a></li>\n",
      "\n",
      "<li><a href=\"/wiki/ASSIA_(company)\" title=\"ASSIA (company)\">ASSIA (company)</a></li>\n",
      "\n",
      "<li><a href=\"/wiki/Audience_(company)\" title=\"Audience (company)\">Audience (company)</a></li>\n",
      "\n",
      "<li><a href=\"/wiki/AuraOne_Systems\" title=\"AuraOne Systems\">AuraOne Systems</a></li>\n",
      "\n",
      "<li><a href=\"/wiki/Aureal_Semiconductor\" title=\"Aureal Semiconductor\">Aureal Semiconductor</a></li>\n"
     ]
    }
   ],
   "source": [
    "company_list = alphabet_a.find_all(\"li\")\n",
    "for i in company_list:\n",
    "    print(\"\")\n",
    "    print(i)"
   ]
  },
  {
   "cell_type": "markdown",
   "metadata": {},
   "source": [
    "If we select one company and print it out, we can see we're pretty close. "
   ]
  },
  {
   "cell_type": "code",
   "execution_count": 32,
   "metadata": {
    "collapsed": false
   },
   "outputs": [
    {
     "name": "stdout",
     "output_type": "stream",
     "text": [
      "<li><a href=\"/wiki/Achronix\" title=\"Achronix\">Achronix</a></li>\n"
     ]
    }
   ],
   "source": [
    "one_company = company_list[0]\n",
    "print(one_company)"
   ]
  },
  {
   "cell_type": "markdown",
   "metadata": {},
   "source": [
    "We can also select the next child element by doing the following:"
   ]
  },
  {
   "cell_type": "code",
   "execution_count": 33,
   "metadata": {
    "collapsed": false
   },
   "outputs": [
    {
     "data": {
      "text/plain": [
       "<a href=\"/wiki/Achronix\" title=\"Achronix\">Achronix</a>"
      ]
     },
     "execution_count": 33,
     "metadata": {},
     "output_type": "execute_result"
    }
   ],
   "source": [
    "one_company.a"
   ]
  },
  {
   "cell_type": "markdown",
   "metadata": {},
   "source": [
    "And finally, get the attributes associated with the \"a\" hyperlink tag, which returns a Python dictionary.  "
   ]
  },
  {
   "cell_type": "code",
   "execution_count": 34,
   "metadata": {
    "collapsed": false
   },
   "outputs": [
    {
     "data": {
      "text/plain": [
       "{'href': '/wiki/Achronix', 'title': 'Achronix'}"
      ]
     },
     "execution_count": 34,
     "metadata": {},
     "output_type": "execute_result"
    }
   ],
   "source": [
    "one_company.a.attrs"
   ]
  },
  {
   "cell_type": "markdown",
   "metadata": {},
   "source": [
    "Now that we've received the element containing the element we want, we can also print out its parents to view the position within the html \"tree.\" "
   ]
  },
  {
   "cell_type": "code",
   "execution_count": 36,
   "metadata": {
    "collapsed": false
   },
   "outputs": [
    {
     "name": "stdout",
     "output_type": "stream",
     "text": [
      "<class 'generator'>\n",
      "li\n",
      "ul\n",
      "div\n",
      "div\n",
      "div\n",
      "div\n",
      "div\n",
      "div\n",
      "div\n",
      "div\n",
      "body\n",
      "html\n",
      "[document]\n"
     ]
    }
   ],
   "source": [
    "print(type(one_company.a.parents))\n",
    "for i in one_company.a.parents:\n",
    "    print(i.name)"
   ]
  },
  {
   "cell_type": "markdown",
   "metadata": {},
   "source": [
    "This lets you see the different nested elements you'll need to traverse to get to the element you need. In many cases, you'll use explicit selection of the element together with the find_all command to isolate the element you need. "
   ]
  },
  {
   "cell_type": "markdown",
   "metadata": {},
   "source": [
    "Finally, let's write a loop to store all of our desired hyperlink dictionaries in a single Python list. "
   ]
  },
  {
   "cell_type": "code",
   "execution_count": 37,
   "metadata": {
    "collapsed": false
   },
   "outputs": [
    {
     "name": "stdout",
     "output_type": "stream",
     "text": [
      "179\n"
     ]
    }
   ],
   "source": [
    "link_list = []\n",
    "for each_section in company_section:\n",
    "    company_list = each_section.find_all(\"li\")\n",
    "    for each_company in company_list:\n",
    "        new_dict = each_company.a\n",
    "        link_list.append(new_dict)\n",
    "print(len(link_list))"
   ]
  },
  {
   "cell_type": "markdown",
   "metadata": {},
   "source": [
    "We now have a list of 175 hyperlinks to loop through for our next section. "
   ]
  },
  {
   "cell_type": "markdown",
   "metadata": {},
   "source": [
    "#### Time for a challenge!\n",
    "\n",
    "To make sure that everyone is on the same page (and to give you a little more practice dealing with HTML), let's partner up with the person next to you and try challenge A, on using html, in the challenges directory."
   ]
  },
  {
   "cell_type": "markdown",
   "metadata": {},
   "source": [
    "Now using the list, let's load the first page and locate the text elements we want "
   ]
  },
  {
   "cell_type": "code",
   "execution_count": 38,
   "metadata": {
    "collapsed": false
   },
   "outputs": [
    {
     "name": "stdout",
     "output_type": "stream",
     "text": [
      "<a href=\"/wiki/HP_3PAR\" title=\"HP 3PAR\">HP 3PAR</a>\n"
     ]
    }
   ],
   "source": [
    "example_site = link_list[0]\n",
    "print(example_site)\n",
    "\n",
    "company_page = requests.get(\"http://wikipedia.org\" + example_site['href'])"
   ]
  },
  {
   "cell_type": "code",
   "execution_count": 39,
   "metadata": {
    "collapsed": false
   },
   "outputs": [
    {
     "name": "stdout",
     "output_type": "stream",
     "text": [
      "b'<!DOCTYPE html>\\n<html lang=\"en\" dir=\"ltr\" class=\"client-nojs\">\\n<head>\\n<meta charset=\"UTF-8\" />\\n<title>HP 3PAR - Wikipedia, the free encyclopedia</title>\\n<script>document.documentElement.className = do'\n"
     ]
    }
   ],
   "source": [
    "print(company_page.content[0:200])"
   ]
  },
  {
   "cell_type": "markdown",
   "metadata": {},
   "source": [
    "In your browser, you should be using inspect element to confirm the position of the desired element in the html tree. We can see the element is a table with class name \"infobox vcard\". Let's try to select this next. First, we need the html document into soup as we did before. (We convert to string just to allow us to print the first 500 charactes of the text here.)"
   ]
  },
  {
   "cell_type": "code",
   "execution_count": 40,
   "metadata": {
    "collapsed": false
   },
   "outputs": [
    {
     "name": "stdout",
     "output_type": "stream",
     "text": [
      "<table class=\"infobox vcard\" style=\"width:22em\">\n",
      "<caption class=\"fn org\">HP 3PAR</caption>\n",
      "<tr>\n",
      "<th scope=\"row\" style=\"padding-right:0.5em;\">\n",
      "<div style=\"padding:0.1em 0;line-height:1.2em;\"><a href=\"/wiki/Types_of_business_entity\" title=\"Types of business entity\">Type</a></div>\n",
      "</th>\n",
      "<td class=\"category\" style=\"line-height:1.35em;\">Subsidiary</td>\n",
      "</tr>\n",
      "<tr>\n",
      "<th scope=\"row\" style=\"padding-right:0.5em;\">Industry</th>\n",
      "<td class=\"category\" style=\"line-height:1.35em;\"><a href=\"/wiki/Data_storage_dev\n"
     ]
    },
    {
     "name": "stderr",
     "output_type": "stream",
     "text": [
      "/Users/dillon/anaconda/lib/python3.5/site-packages/bs4/__init__.py:166: UserWarning: No parser was explicitly specified, so I'm using the best available HTML parser for this system (\"lxml\"). This usually isn't a problem, but if you run this code on another system, or in a different virtual environment, it may use a different parser and behave differently.\n",
      "\n",
      "To get rid of this warning, change this:\n",
      "\n",
      " BeautifulSoup([your markup])\n",
      "\n",
      "to this:\n",
      "\n",
      " BeautifulSoup([your markup], \"lxml\")\n",
      "\n",
      "  markup_type=markup_type))\n"
     ]
    }
   ],
   "source": [
    "soup = BeautifulSoup(company_page.content) \n",
    "info_box = soup.find(\"table\", {\"class\": \"infobox vcard\"})\n",
    "print(str(info_box)[0:500])"
   ]
  },
  {
   "cell_type": "markdown",
   "metadata": {},
   "source": [
    "Now, using the various tools we've had before, we can drill down to the specific element containing the data we need. As before, we select and print a single row to help guide the process. "
   ]
  },
  {
   "cell_type": "code",
   "execution_count": 41,
   "metadata": {
    "collapsed": false
   },
   "outputs": [
    {
     "name": "stdout",
     "output_type": "stream",
     "text": [
      "<tr>\n",
      "<th scope=\"row\" style=\"padding-right:0.5em;\">\n",
      "<div style=\"padding:0.1em 0;line-height:1.2em;\"><a href=\"/wiki/Types_of_business_entity\" title=\"Types of business entity\">Type</a></div>\n",
      "</th>\n",
      "<td class=\"category\" style=\"line-height:1.35em;\">Subsidiary</td>\n",
      "</tr>\n"
     ]
    }
   ],
   "source": [
    "table_elements = info_box.find_all(\"tr\")\n",
    "one_row = table_elements[0]\n",
    "print(one_row)"
   ]
  },
  {
   "cell_type": "markdown",
   "metadata": {},
   "source": [
    "First, let's try to select the element containing the variable name \"Type\"."
   ]
  },
  {
   "cell_type": "code",
   "execution_count": 42,
   "metadata": {
    "collapsed": false
   },
   "outputs": [
    {
     "name": "stdout",
     "output_type": "stream",
     "text": [
      "<th scope=\"row\" style=\"padding-right:0.5em;\">\n",
      "<div style=\"padding:0.1em 0;line-height:1.2em;\"><a href=\"/wiki/Types_of_business_entity\" title=\"Types of business entity\">Type</a></div>\n",
      "</th>\n",
      "\n",
      "<div style=\"padding:0.1em 0;line-height:1.2em;\"><a href=\"/wiki/Types_of_business_entity\" title=\"Types of business entity\">Type</a></div>\n",
      "\n",
      "Type\n"
     ]
    }
   ],
   "source": [
    "print(one_row.th)\n",
    "print(\"\")\n",
    "print(one_row.th.div)\n",
    "print(\"\")\n",
    "print(one_row.th.div.text)"
   ]
  },
  {
   "cell_type": "markdown",
   "metadata": {},
   "source": [
    "Next, let's select the element containing the variable value, in this case \"Subsidiary\". "
   ]
  },
  {
   "cell_type": "code",
   "execution_count": 43,
   "metadata": {
    "collapsed": false
   },
   "outputs": [
    {
     "name": "stdout",
     "output_type": "stream",
     "text": [
      "<td class=\"category\" style=\"line-height:1.35em;\">Subsidiary</td>\n",
      "\n",
      "Subsidiary\n"
     ]
    }
   ],
   "source": [
    "print(one_row.td)\n",
    "print(\"\")\n",
    "print(one_row.td.text)"
   ]
  },
  {
   "cell_type": "markdown",
   "metadata": {},
   "source": [
    "Now, let's loop through all rows to get all data that's available on the company. Depending on how well-structured the data is, this can be something of a trial and error process. "
   ]
  },
  {
   "cell_type": "code",
   "execution_count": 45,
   "metadata": {
    "collapsed": false
   },
   "outputs": [
    {
     "name": "stdout",
     "output_type": "stream",
     "text": [
      "Type: Subsidiary\n"
     ]
    },
    {
     "ename": "AttributeError",
     "evalue": "'NoneType' object has no attribute 'text'",
     "output_type": "error",
     "traceback": [
      "\u001b[0;31m---------------------------------------------------------------------------\u001b[0m",
      "\u001b[0;31mAttributeError\u001b[0m                            Traceback (most recent call last)",
      "\u001b[0;32m<ipython-input-45-5678f42391a1>\u001b[0m in \u001b[0;36m<module>\u001b[0;34m()\u001b[0m\n\u001b[1;32m      1\u001b[0m \u001b[0;32mfor\u001b[0m \u001b[0mone_row\u001b[0m \u001b[0;32min\u001b[0m \u001b[0mtable_elements\u001b[0m\u001b[0;34m:\u001b[0m\u001b[0;34m\u001b[0m\u001b[0m\n\u001b[0;32m----> 2\u001b[0;31m     \u001b[0mprint\u001b[0m\u001b[0;34m(\u001b[0m\u001b[0mone_row\u001b[0m\u001b[0;34m.\u001b[0m\u001b[0mth\u001b[0m\u001b[0;34m.\u001b[0m\u001b[0mdiv\u001b[0m\u001b[0;34m.\u001b[0m\u001b[0mtext\u001b[0m \u001b[0;34m+\u001b[0m \u001b[0;34m\": \"\u001b[0m \u001b[0;34m+\u001b[0m \u001b[0mone_row\u001b[0m\u001b[0;34m.\u001b[0m\u001b[0mtd\u001b[0m\u001b[0;34m.\u001b[0m\u001b[0mtext\u001b[0m\u001b[0;34m)\u001b[0m\u001b[0;34m\u001b[0m\u001b[0m\n\u001b[0m",
      "\u001b[0;31mAttributeError\u001b[0m: 'NoneType' object has no attribute 'text'"
     ]
    }
   ],
   "source": [
    "for one_row in table_elements:\n",
    "    print(one_row.th.div.text + \": \" + one_row.td.text)"
   ]
  },
  {
   "cell_type": "markdown",
   "metadata": {},
   "source": [
    "We get an AttributeError for the \"NoneType\" object due to some of the \"th\" elements being empty. If we do some simple Exception capturing, we can get the loop to run through. "
   ]
  },
  {
   "cell_type": "code",
   "execution_count": 48,
   "metadata": {
    "collapsed": false
   },
   "outputs": [
    {
     "name": "stdout",
     "output_type": "stream",
     "text": [
      "Type: Subsidiary\n",
      "Area served: Worldwide\n",
      "Key people: David C. Scott\n",
      "(President), (CEO) & (Director)\n",
      "Operating income: US$ -3.33 million (FY10)\n",
      "Net income: US$ -3.18 million (FY10)\n",
      "Number of employees: 657 (FY10)\n"
     ]
    }
   ],
   "source": [
    "for one_row in table_elements:\n",
    "    try:\n",
    "        print(one_row.th.div.text + \": \" + one_row.td.text)\n",
    "    except Exception:\n",
    "        continue"
   ]
  },
  {
   "cell_type": "markdown",
   "metadata": {},
   "source": [
    "#### Let's try a challenge!\n",
    "\n",
    "Error handling - or having a computer program anticipate and respond to errors created by other functions - is a big part of programming. To give you a little more practice with this, we're going to have you team up with person sitting next to you and try challenge B in the challenges directory."
   ]
  },
  {
   "cell_type": "markdown",
   "metadata": {},
   "source": [
    "Now that we have the data we need, let's store it in a Python dictionary. "
   ]
  },
  {
   "cell_type": "code",
   "execution_count": 50,
   "metadata": {
    "collapsed": false
   },
   "outputs": [
    {
     "name": "stdout",
     "output_type": "stream",
     "text": [
      "Type: Subsidiary\n",
      "Area served: Worldwide\n",
      "Key people: David C. Scott\n",
      "(President), (CEO) & (Director)\n",
      "Operating income: US$ -3.33 million (FY10)\n",
      "Net income: US$ -3.18 million (FY10)\n",
      "Number of employees: 657 (FY10)\n"
     ]
    }
   ],
   "source": [
    "new_dict = {}\n",
    "for one_row in table_elements:\n",
    "    try:\n",
    "        print(one_row.th.div.text + \": \" + one_row.td.text)\n",
    "        new_dict[one_row.th.div.text] = one_row.td.text\n",
    "    except Exception:\n",
    "        continue"
   ]
  },
  {
   "cell_type": "markdown",
   "metadata": {},
   "source": [
    "We can browse the dictionary to make sure it is capturing the data correctly. "
   ]
  },
  {
   "cell_type": "code",
   "execution_count": 51,
   "metadata": {
    "collapsed": false
   },
   "outputs": [
    {
     "name": "stdout",
     "output_type": "stream",
     "text": [
      "dict_keys(['Area served', 'Key people', 'Operating income', 'Type', 'Number of employees', 'Net income'])\n",
      "{'Area served': 'Worldwide', 'Key people': 'David C. Scott\\n(President), (CEO) & (Director)', 'Operating income': 'US$ -3.33 million (FY10)', 'Type': 'Subsidiary', 'Number of employees': '657 (FY10)', 'Net income': 'US$ -3.18 million (FY10)'}\n"
     ]
    }
   ],
   "source": [
    "print(new_dict.keys())\n",
    "print(new_dict)"
   ]
  },
  {
   "cell_type": "markdown",
   "metadata": {},
   "source": [
    "Let's quickly rehash what we did. We first extracted a list of hyperlinks from our index page, storing in our link_list variable. Next, we visited one of the pages, pulled its html into soup, and extracted the data from the element with class name \"infobox vcard\" into our new_dict variable. \n",
    "\n",
    "The next step is to write an overall loop so that we can collect the \"infobox vcard\" data for all elements in our list. info_box = soup.find(\"table\", {\"class\": \"infobox vcard\"})\n"
   ]
  },
  {
   "cell_type": "code",
   "execution_count": 53,
   "metadata": {
    "collapsed": false
   },
   "outputs": [
    {
     "name": "stdout",
     "output_type": "stream",
     "text": [
      "\n",
      "<a href=\"/wiki/HP_3PAR\" title=\"HP 3PAR\">HP 3PAR</a>\n",
      "\n",
      "Type: Subsidiary\n",
      "Area served: Worldwide\n",
      "Key people: David C. Scott\n",
      "(President), (CEO) & (Director)\n",
      "Operating income: US$ -3.33 million (FY10)\n",
      "Net income: US$ -3.18 million (FY10)\n",
      "Number of employees: 657 (FY10)\n",
      "\n",
      "<a href=\"/wiki/Achronix\" title=\"Achronix\">Achronix</a>\n",
      "\n",
      "Type: Private\n",
      "Key people: Robert Blake (CEO), John Lofton Holt (Chairman), Rahul Nimaiyyar (VP HW Engineering), Kamal Choudhary (VP SW Engineering), Steve Mensor (VP Marketing), Edward Archer (VP Sales)\n",
      "Number of employees: <200\n",
      "\n",
      "<a href=\"/wiki/Advanced_Micro_Devices\" title=\"Advanced Micro Devices\">Advanced Micro Devices</a>\n",
      "\n",
      "Type: Public\n",
      "Area served: Worldwide\n",
      "Key people: Lisa Su (CEO)[2]\n",
      "Bruce Claflin (Executive Chairman)\n",
      "Operating income:  -$155 million (2014)[5]\n",
      "Net income:  -$403 million (2014)[5]\n",
      "Number of employees: 9,687 (2014)[5]\n",
      "\n",
      "3\n"
     ]
    },
    {
     "name": "stderr",
     "output_type": "stream",
     "text": [
      "/Users/dillon/anaconda/lib/python3.5/site-packages/bs4/__init__.py:166: UserWarning: No parser was explicitly specified, so I'm using the best available HTML parser for this system (\"lxml\"). This usually isn't a problem, but if you run this code on another system, or in a different virtual environment, it may use a different parser and behave differently.\n",
      "\n",
      "To get rid of this warning, change this:\n",
      "\n",
      " BeautifulSoup([your markup])\n",
      "\n",
      "to this:\n",
      "\n",
      " BeautifulSoup([your markup], \"lxml\")\n",
      "\n",
      "  markup_type=markup_type))\n"
     ]
    }
   ],
   "source": [
    "list_of_dicts = []\n",
    "\n",
    "for each_link in link_list[0:3]:\n",
    "    print(\"\")\n",
    "    print(each_link)\n",
    "    print(\"\")\n",
    "    company_page = requests.get(\"http://wikipedia.org\" + each_link['href'])\n",
    "    soup = BeautifulSoup(company_page.content)\n",
    "    info_box = soup.find(\"table\", {\"class\": \"infobox vcard\"})\n",
    "    table_elements = info_box.find_all(\"tr\")\n",
    "    new_dict = {}\n",
    "    new_dict['Company_name'] = each_link['title']\n",
    "    for one_row in table_elements:\n",
    "        try:\n",
    "            print(one_row.th.div.text + \": \" + one_row.td.text)\n",
    "            # we convert to string as a precaution to make sure more complex elements are stored as strings\n",
    "            new_dict[one_row.th.div.text] = str(one_row.td.text)\n",
    "        except Exception:\n",
    "            continue\n",
    "    # add the dictionary after we've added all variable names and values to each dictionary\n",
    "    list_of_dicts.append(new_dict)\n",
    "\n",
    "print(\"\")\n",
    "print(len(list_of_dicts))"
   ]
  },
  {
   "cell_type": "markdown",
   "metadata": {},
   "source": [
    "Let's browse our list_of_dicts object to make sure it contains the data we need. "
   ]
  },
  {
   "cell_type": "code",
   "execution_count": 54,
   "metadata": {
    "collapsed": false
   },
   "outputs": [
    {
     "name": "stdout",
     "output_type": "stream",
     "text": [
      "[{'Net income': 'US$ -3.18 million (FY10)', 'Area served': 'Worldwide', 'Key people': 'David C. Scott\\n(President), (CEO) & (Director)', 'Company_name': 'HP 3PAR', 'Type': 'Subsidiary', 'Number of employees': '657 (FY10)', 'Operating income': 'US$ -3.33 million (FY10)'}, {'Key people': 'Robert Blake (CEO), John Lofton Holt (Chairman), Rahul Nimaiyyar (VP HW Engineering), Kamal Choudhary (VP SW Engineering), Steve Mensor (VP Marketing), Edward Archer (VP Sales)', 'Company_name': 'Achronix', 'Type': 'Private', 'Number of employees': '<200'}, {'Net income': ' -$403\\xa0million (2014)[5]', 'Area served': 'Worldwide', 'Key people': 'Lisa Su (CEO)[2]\\nBruce Claflin (Executive Chairman)', 'Company_name': 'Advanced Micro Devices', 'Type': 'Public', 'Number of employees': '9,687 (2014)[5]', 'Operating income': ' -$155\\xa0million (2014)[5]'}]\n"
     ]
    }
   ],
   "source": [
    "print(list_of_dicts)"
   ]
  },
  {
   "cell_type": "markdown",
   "metadata": {
    "collapsed": true
   },
   "source": [
    "Typically, a \"friendly\" bot would try to space out the number of requests (in addition to not scraping the pages robots.txt disallows and obeying the general terms of service) so that the server can manage its traffic. One simple way to do this is to add a time.sleep command into your loop. \n",
    "\n",
    "As the entire class will be sharing the same IP, it's recommended that you add a longer wait time and limit the number of companies from link_list you scrape while in class. "
   ]
  },
  {
   "cell_type": "code",
   "execution_count": 56,
   "metadata": {
    "collapsed": false
   },
   "outputs": [
    {
     "name": "stdout",
     "output_type": "stream",
     "text": [
      "\n",
      "waiting 1s...\n",
      "\n",
      "<a href=\"/wiki/HP_3PAR\" title=\"HP 3PAR\">HP 3PAR</a>\n",
      "\n",
      "Type: Subsidiary\n",
      "Area served: Worldwide\n",
      "Key people: David C. Scott\n",
      "(President), (CEO) & (Director)\n",
      "Operating income: US$ -3.33 million (FY10)\n",
      "Net income: US$ -3.18 million (FY10)\n",
      "Number of employees: 657 (FY10)\n",
      "\n",
      "waiting 1s...\n",
      "\n",
      "<a href=\"/wiki/Achronix\" title=\"Achronix\">Achronix</a>\n",
      "\n",
      "Type: Private\n",
      "Key people: Robert Blake (CEO), John Lofton Holt (Chairman), Rahul Nimaiyyar (VP HW Engineering), Kamal Choudhary (VP SW Engineering), Steve Mensor (VP Marketing), Edward Archer (VP Sales)\n",
      "Number of employees: <200\n",
      "\n",
      "waiting 1s...\n",
      "\n",
      "<a href=\"/wiki/Advanced_Micro_Devices\" title=\"Advanced Micro Devices\">Advanced Micro Devices</a>\n",
      "\n",
      "Type: Public\n",
      "Area served: Worldwide\n",
      "Key people: Lisa Su (CEO)[2]\n",
      "Bruce Claflin (Executive Chairman)\n",
      "Operating income:  -$155 million (2014)[5]\n",
      "Net income:  -$403 million (2014)[5]\n",
      "Number of employees: 9,687 (2014)[5]\n"
     ]
    },
    {
     "name": "stderr",
     "output_type": "stream",
     "text": [
      "/Users/dillon/anaconda/lib/python3.5/site-packages/bs4/__init__.py:166: UserWarning: No parser was explicitly specified, so I'm using the best available HTML parser for this system (\"lxml\"). This usually isn't a problem, but if you run this code on another system, or in a different virtual environment, it may use a different parser and behave differently.\n",
      "\n",
      "To get rid of this warning, change this:\n",
      "\n",
      " BeautifulSoup([your markup])\n",
      "\n",
      "to this:\n",
      "\n",
      " BeautifulSoup([your markup], \"lxml\")\n",
      "\n",
      "  markup_type=markup_type))\n"
     ]
    }
   ],
   "source": [
    "import time \n",
    "\n",
    "list_of_dicts = []\n",
    "\n",
    "for each_link in link_list[0:3]:\n",
    "    print(\"\")\n",
    "    wait_time = 1\n",
    "    print('waiting ' + str(wait_time) + \"s...\")\n",
    "    time.sleep(1)\n",
    "    print(\"\")\n",
    "    print(each_link)\n",
    "    print(\"\")\n",
    "    company_page = requests.get(\"http://wikipedia.org\" + each_link['href'])\n",
    "    soup = BeautifulSoup(company_page.content)\n",
    "    info_box = soup.find(\"table\", {\"class\": \"infobox vcard\"})\n",
    "    table_elements = info_box.find_all(\"tr\")\n",
    "    new_dict = {}\n",
    "    new_dict['Company_name'] = each_link['title']\n",
    "    for one_row in table_elements:\n",
    "        try:\n",
    "            print(one_row.th.div.text + \": \" + one_row.td.text)\n",
    "            # we convert to string as a precaution to make sure more complex elements are stored as strings\n",
    "            new_dict[one_row.th.div.text] = str(one_row.td.text)\n",
    "        except Exception:\n",
    "            continue\n",
    "    # add the dictionary after we've added all variable names and values to each dictionary\n",
    "    list_of_dicts.append(new_dict)"
   ]
  },
  {
   "cell_type": "markdown",
   "metadata": {},
   "source": [
    "Now we have our list of dictionaries containing the data we want for each company. If you browse a few of the company pages, you'll notice that the number of variables each \"infobox vcard\" has is not always the same. Some dictionaries will have fields that others don't. \n",
    "\n",
    "To store this data flexibly, we can iterate through all our dictionaries and collect all keys from them. "
   ]
  },
  {
   "cell_type": "code",
   "execution_count": 57,
   "metadata": {
    "collapsed": false
   },
   "outputs": [
    {
     "name": "stdout",
     "output_type": "stream",
     "text": [
      "['Net income', 'Area served', 'Key people', 'Company_name', 'Type', 'Number of employees', 'Operating income', 'Key people', 'Company_name', 'Type', 'Number of employees', 'Net income', 'Area served', 'Key people', 'Company_name', 'Type', 'Number of employees', 'Operating income']\n"
     ]
    }
   ],
   "source": [
    "key_list = []\n",
    "for each_dict in list_of_dicts:\n",
    "    for key in each_dict.keys():\n",
    "        key_list.append(key)\n",
    "print(key_list)"
   ]
  },
  {
   "cell_type": "markdown",
   "metadata": {},
   "source": [
    "Next, we convert the list to a set to remove all repeat keys. This then contains all unique keys across our dictionaries. "
   ]
  },
  {
   "cell_type": "code",
   "execution_count": 58,
   "metadata": {
    "collapsed": false
   },
   "outputs": [
    {
     "name": "stdout",
     "output_type": "stream",
     "text": [
      "{'Key people', 'Net income', 'Type', 'Number of employees', 'Operating income', 'Area served', 'Company_name'}\n"
     ]
    }
   ],
   "source": [
    "key_set = set(key_list)\n",
    "print(key_set)"
   ]
  },
  {
   "cell_type": "markdown",
   "metadata": {},
   "source": [
    "We convert the set back to a list (and sort it) as csv.DictWriter takes a list for its fieldnames parameter. "
   ]
  },
  {
   "cell_type": "code",
   "execution_count": 59,
   "metadata": {
    "collapsed": false
   },
   "outputs": [
    {
     "name": "stdout",
     "output_type": "stream",
     "text": [
      "['Area served', 'Company_name', 'Key people', 'Net income', 'Number of employees', 'Operating income', 'Type']\n"
     ]
    }
   ],
   "source": [
    "final_key_list = sorted(list(key_set))\n",
    "print(final_key_list)"
   ]
  },
  {
   "cell_type": "markdown",
   "metadata": {},
   "source": [
    "With our complete key list, we can now write our dictionary into a csv file."
   ]
  },
  {
   "cell_type": "code",
   "execution_count": 62,
   "metadata": {
    "collapsed": false
   },
   "outputs": [
    {
     "name": "stdout",
     "output_type": "stream",
     "text": [
      "{'Net income': 'US$ -3.18 million (FY10)', 'Area served': 'Worldwide', 'Key people': 'David C. Scott\\n(President), (CEO) & (Director)', 'Company_name': 'HP 3PAR', 'Type': 'Subsidiary', 'Number of employees': '657 (FY10)', 'Operating income': 'US$ -3.33 million (FY10)'}\n",
      "{'Key people': 'Robert Blake (CEO), John Lofton Holt (Chairman), Rahul Nimaiyyar (VP HW Engineering), Kamal Choudhary (VP SW Engineering), Steve Mensor (VP Marketing), Edward Archer (VP Sales)', 'Company_name': 'Achronix', 'Type': 'Private', 'Number of employees': '<200'}\n",
      "{'Net income': ' -$403\\xa0million (2014)[5]', 'Area served': 'Worldwide', 'Key people': 'Lisa Su (CEO)[2]\\nBruce Claflin (Executive Chairman)', 'Company_name': 'Advanced Micro Devices', 'Type': 'Public', 'Number of employees': '9,687 (2014)[5]', 'Operating income': ' -$155\\xa0million (2014)[5]'}\n",
      "done\n"
     ]
    }
   ],
   "source": [
    "import csv\n",
    "\n",
    "outpath= \"../data/02_companies.csv\"\n",
    "outfile = open(outpath, 'w')\n",
    "\n",
    "writer = csv.DictWriter(outfile, fieldnames=final_key_list, dialect='excel')\n",
    "\n",
    "writer.writeheader() \n",
    "for row in list_of_dicts:\n",
    "    writer.writerow(row)\n",
    "    print(row)\n",
    "outfile.close()\n",
    "print(\"done\")"
   ]
  },
  {
   "cell_type": "markdown",
   "metadata": {},
   "source": [
    "You can open the file in Excel to view the data. Congrats, you just scraped valuable data for your project off the web!"
   ]
  }
 ],
 "metadata": {
  "kernelspec": {
   "display_name": "Python 3",
   "language": "python",
   "name": "python3"
  },
  "language_info": {
   "codemirror_mode": {
    "name": "ipython",
    "version": 3
   },
   "file_extension": ".py",
   "mimetype": "text/x-python",
   "name": "python",
   "nbconvert_exporter": "python",
   "pygments_lexer": "ipython3",
   "version": "3.5.1"
  }
 },
 "nbformat": 4,
 "nbformat_minor": 0
}
