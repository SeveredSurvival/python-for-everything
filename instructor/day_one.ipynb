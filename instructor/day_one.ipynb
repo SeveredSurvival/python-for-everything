{
 "cells": [
  {
   "cell_type": "markdown",
   "metadata": {},
   "source": [
    "## Pre-introduction to the class\n",
    "\n",
    "You should start by having your class go to [url](url) and clone the materials for this class, either by:\n",
    "\n",
    "1. Cloning this repo with `git clone https://`\n",
    "2. Clicking the 'download zip' button on the righthand side of the page\n",
    "\n",
    "While people are typing in urls and waiting for downloads, you can move on to:\n",
    "\n",
    "## Introduction to the class\n",
    "\n",
    "Python is an interpreted, object oriented programming language whose primary motivation is to be easy to understand. We'll spend today talking about what each of those things mean, starting with:\n",
    "\n",
    "### Interpreted\n",
    "\n",
    "Python is an interpreted language, as opposed to a compiled language. This means that, instead of being translated into a string of bits or bytes that is submitted directly to the machine, python code is submitted line by line to a program that decides what to do with each line. There are many ways to interact with this program. The simplest is:\n",
    "\n",
    "#### 1. Running files with python\n",
    "\n",
    "> Open up a terminal window and type this command exactly:\n",
    "```\n",
    "python scripts/simple.py\n",
    "```"
   ]
  },
  {
   "cell_type": "code",
   "execution_count": 4,
   "metadata": {
    "collapsed": false
   },
   "outputs": [
    {
     "name": "stdout",
     "output_type": "stream",
     "text": [
      "IOKN2K!\r\n"
     ]
    }
   ],
   "source": [
    "! python ../scripts/simple.py"
   ]
  },
  {
   "cell_type": "markdown",
   "metadata": {},
   "source": [
    "> Python is reading the lines in from the file simple.py, interpreting them, and then executing them. If you've taken our introduction to UNIX class, you know that to a computer, there is essentially no difference between reading commands from a file and reading them from a REPL loop. \n",
    "\n",
    "#### 2. You can submit commands to python via a terminal-interpreter\n",
    "\n",
    "> Python ships with a basic interpreter that you can enter by typing `python` in a terminal. This should land you in a python environment with an introductory message and a prompt that look like this:\n",
    "\n",
    "```\n",
    "Python 3.4.3 |Anaconda 2.3.0 (x86_64)| (default, Mar  6 2015, 12:07:41) \n",
    "[GCC 4.2.1 (Apple Inc. build 5577)] on darwin\n",
    "Type \"help\", \"copyright\", \"credits\" or \"license\" for more information.\n",
    ">>> \n",
    "```\n",
    "\n",
    "> You can run the file by typing `from scripts import simple`. If you look in the file, you'll see that `simple` is just running the print function. We can do this ourselves by typing:"
   ]
  },
  {
   "cell_type": "code",
   "execution_count": 7,
   "metadata": {
    "collapsed": false
   },
   "outputs": [
    {
     "name": "stdout",
     "output_type": "stream",
     "text": [
      "IOKN2K!\n"
     ]
    }
   ],
   "source": [
    "print('IOKN2K!')"
   ]
  },
  {
   "cell_type": "markdown",
   "metadata": {},
   "source": [
    "> A more popular terminal interpreter is iPython (which is developed here at Berkeley). Type `quit()` or press CNTRL+D to leave vanilla python, and once you are back in your bash terminal, type `ipython`. You should see a prompt that looks like this:\n",
    "\n",
    "```\n",
    "Python 3.4.3 |Anaconda 2.3.0 (x86_64)| (default, Mar  6 2015, 12:07:41) \n",
    "Type \"copyright\", \"credits\" or \"license\" for more information.\n",
    "\n",
    "IPython 4.0.0 -- An enhanced Interactive Python.\n",
    "?         -> Introduction and overview of IPython's features.\n",
    "%quickref -> Quick reference.\n",
    "help      -> Python's own help system.\n",
    "object?   -> Details about 'object', use 'object??' for extra details.\n",
    "\n",
    "In [1]:  \n",
    "```\n",
    "\n",
    "> IPython is a popular option for developers who are prototyping code, and need to try out different implentations in real time. This is also true of the people of develop IPython, who report adopting a two-window setup where one window is IPython and the other is a text editor (like Vi, Sublime, or Atom). Two fantastic features of IPython are tab complete and the documentation lookup operator. Try typing `pri <tab>` into your interpreter. It should auto-complete to `print`. Add a `?` immediately after `print` and hit enter. You should see the docstring like this:\n",
    "\n",
    "```\n",
    "In [1]: print?\n",
    "Docstring:\n",
    "print(value, ..., sep=' ', end='\\n', file=sys.stdout, flush=False)\n",
    "\n",
    "Prints the values to a stream, or to sys.stdout by default.\n",
    "Optional keyword arguments:\n",
    "file:  a file-like object (stream); defaults to the current sys.stdout.\n",
    "sep:   string inserted between values, default a space.\n",
    "end:   string appended after the last value, default a newline.\n",
    "flush: whether to forcibly flush the stream.\n",
    "Type:      builtin_function_or_method\n",
    "```\n",
    "\n",
    "#### 3. You can run python as a kernel in another program\n",
    "\n",
    "> The same people who make IPython also make Jupyter, which provides a notebook-like format for python similar to Mathematica or Rmd, where code, code output, text, and graphics can be combined into a single filetype that can be viewed and run by others in real time. Quit IPython (do you remember how?) and type `jupyter notebook` into your terminal. It will display some output like this:\n",
    "\n",
    "```\n",
    "[I 13:59:34.497 NotebookApp] Serving notebooks from local directory: /Users/dillonniederhut/python-for-everything\n",
    "[I 13:59:34.497 NotebookApp] 0 active kernels \n",
    "[I 13:59:34.497 NotebookApp] The IPython Notebook is running at: http://localhost:8888/\n",
    "[I 13:59:34.497 NotebookApp] Use Control-C to stop this server and shut down all kernels (twice to skip confirmation).\n",
    "```\n",
    "\n",
    "> And then will open up your default browser (or open a tab in the browser you already have running) and display the local filesystem. From here, you can start a new notebook by clicking the 'new' button on the righthand side of the page.\n",
    "\n",
    "**Important! You can't do anything in the terminal while the notebook is running.**\n",
    "\n",
    "> Notebooks are not typically used for development or production, but are very common in teaching environments. For example, this teaching materials for this class were all created in Jupyter. \n",
    "\n",
    "#### 4. You can run python in an IDE\n",
    "\n",
    "> IDE stands for 'Integrated Development Environment', and is a graphical user interface that typically includes an output window, a text editor with built-in `run` and `debug` functions, display windows for plots and filesystems, and some amount of declaration tracking. In this class, we'll be using [Rodeo](http://blog.yhathq.com/posts/introducing-rodeo.html), a lean IDE that uses IPython as its interpreter. There are many other choices, including:\n",
    "* IDLE - [Python's built-in IDE](https://docs.python.org/3.5/library/idle.html) (no one really uses this)\n",
    "* Spyder - [IDE that ships with Anaconda](https://github.com/spyder-ide/spyder) (similar to Rodeo)\n",
    "* PyCharm - [JetBrain's IDE](https://www.jetbrains.com/pycharm/) (feature-heavy; includes VCS support and cross-referencing)\n",
    "You should already have Rodeo installed - double click the icon (wherever you put it) to start up the program."
   ]
  },
  {
   "cell_type": "markdown",
   "metadata": {},
   "source": [
    "## Object Orientation\n",
    "\n",
    "Earlier, we said that python is an object oriented language. This means that python things about it's code the same way that you think about the stuff around you. "
   ]
  }
 ],
 "metadata": {
  "kernelspec": {
   "display_name": "Python 3",
   "language": "python",
   "name": "python3"
  },
  "language_info": {
   "codemirror_mode": {
    "name": "ipython",
    "version": 3
   },
   "file_extension": ".py",
   "mimetype": "text/x-python",
   "name": "python",
   "nbconvert_exporter": "python",
   "pygments_lexer": "ipython3",
   "version": "3.4.3"
  }
 },
 "nbformat": 4,
 "nbformat_minor": 0
}
