{
 "metadata": {
  "name": "",
  "signature": "sha256:9fa2d12134a3ba9a68f6bb140a890a0e6f06fcc88333591b5ce5d4ff793359c5"
 },
 "nbformat": 3,
 "nbformat_minor": 0,
 "worksheets": [
  {
   "cells": [
    {
     "cell_type": "markdown",
     "metadata": {},
     "source": [
      "# 11 - Python Classes\n",
      "\n",
      "You don't need to write your own classes to write useful programs in Python. But you should be able to use and understand classes that others have written.\n",
      "\n",
      "One way to think about classes is that they are a pattern for keeping a set of variables and related functions organized. We can do similar things without classes. Consider the following:"
     ]
    },
    {
     "cell_type": "code",
     "collapsed": false,
     "input": [
      "def init_data_processing(filename):\n",
      "    my_data = {'filename': filename,\n",
      "               'processed': False}\n",
      "    return my_data"
     ],
     "language": "python",
     "metadata": {},
     "outputs": [],
     "prompt_number": 1
    },
    {
     "cell_type": "markdown",
     "metadata": {},
     "source": [
      "Now, we can set up a new file to process using our \"init\" function."
     ]
    },
    {
     "cell_type": "code",
     "collapsed": false,
     "input": [
      "data_analysis = init_data_processing('example.txt')\n",
      "data_analysis"
     ],
     "language": "python",
     "metadata": {},
     "outputs": [
      {
       "metadata": {},
       "output_type": "pyout",
       "prompt_number": 2,
       "text": [
        "{'filename': 'example.txt', 'processed': False}"
       ]
      }
     ],
     "prompt_number": 2
    },
    {
     "cell_type": "code",
     "collapsed": false,
     "input": [
      "def do_analysis(my_data):\n",
      "    if not my_data['processed']:\n",
      "        print 'Analysing file!'\n",
      "        my_data['count'] = 0\n",
      "        infile = open(my_data['filename'])\n",
      "        for line in infile:\n",
      "            my_data['count'] += 1\n",
      "        infile.close()\n",
      "        my_data['processed'] = True\n",
      "    else:\n",
      "        print 'I already counted this file!'\n",
      "            \n",
      "    return my_data['count']\n",
      "            \n",
      "do_analysis(data_analysis)"
     ],
     "language": "python",
     "metadata": {},
     "outputs": [
      {
       "output_type": "stream",
       "stream": "stdout",
       "text": [
        "Analysing file!\n"
       ]
      },
      {
       "metadata": {},
       "output_type": "pyout",
       "prompt_number": 3,
       "text": [
        "5"
       ]
      }
     ],
     "prompt_number": 3
    },
    {
     "cell_type": "markdown",
     "metadata": {},
     "source": [
      "And if we tried to run that analysis again, we'd see we already did it - we're keeping track of that information bundeled together in the same dictionary with our data."
     ]
    },
    {
     "cell_type": "code",
     "collapsed": false,
     "input": [
      "do_analysis(data_analysis)"
     ],
     "language": "python",
     "metadata": {},
     "outputs": [
      {
       "output_type": "stream",
       "stream": "stdout",
       "text": [
        "I already counted this file!\n"
       ]
      },
      {
       "metadata": {},
       "output_type": "pyout",
       "prompt_number": 4,
       "text": [
        "5"
       ]
      }
     ],
     "prompt_number": 4
    },
    {
     "cell_type": "markdown",
     "metadata": {},
     "source": [
      "## Introducing classes\n",
      "\n",
      "A class is a way to bundle related code and data (like the code above) into a single block. Note that instead of putting each bit of data in a dictionary location, we use the \"dot\" notation, and the object will automatically be passed in as the first parameter (which we should always call self to keep things clear)."
     ]
    },
    {
     "cell_type": "code",
     "collapsed": false,
     "input": [
      "# Initially, always put '(object)' next to your class name.\n",
      "# But only in python 2.x - probably by the time you need to \n",
      "# understand those details, you'll be on python 3!\n",
      "\n",
      "class DataAnalysis(object):\n",
      "    # We can initialize class data here\n",
      "    processed = False\n",
      "    \n",
      "    # Or initialize data dynamically in an __init__ function\n",
      "    def __init__(self, filename):\n",
      "        self.filename = filename\n",
      "        # Note - an __init__ should NEVER return a value\n",
      "        \n",
      "    # Note that all methods include a 'self' parameter\n",
      "    # This parameter will point to the specific object you\n",
      "    # call the method on\n",
      "    def do_analysis(self):\n",
      "        if not self.processed:\n",
      "            print 'Analyzing file! (you crazy Brits...)'\n",
      "            self.count = 0\n",
      "            infile = open(self.filename)\n",
      "            for line in infile:\n",
      "                self.count += 1\n",
      "            infile.close()\n",
      "            self.processed = True\n",
      "        else:\n",
      "            print 'I already counted this file!'\n",
      "                \n",
      "        return self.count"
     ],
     "language": "python",
     "metadata": {},
     "outputs": [],
     "prompt_number": 5
    },
    {
     "cell_type": "markdown",
     "metadata": {},
     "source": [
      "We can initialize as many objects as we want from the class (basically a description for objects). Their data will remain separate. There are some more advanced methods for sharing data between all objects of the same class, but we won't cover them here."
     ]
    },
    {
     "cell_type": "code",
     "collapsed": false,
     "input": [
      "# Parameters here get passed along to __init__\n",
      "data_analysis_obj = DataAnalysis('example.txt')"
     ],
     "language": "python",
     "metadata": {},
     "outputs": [],
     "prompt_number": 6
    },
    {
     "cell_type": "code",
     "collapsed": false,
     "input": [
      "# Now what's in there?\n",
      "# Remember - focus on stuff without __underscores__\n",
      "dir(data_analysis_obj)"
     ],
     "language": "python",
     "metadata": {},
     "outputs": [
      {
       "metadata": {},
       "output_type": "pyout",
       "prompt_number": 7,
       "text": [
        "['__class__',\n",
        " '__delattr__',\n",
        " '__dict__',\n",
        " '__doc__',\n",
        " '__format__',\n",
        " '__getattribute__',\n",
        " '__hash__',\n",
        " '__init__',\n",
        " '__module__',\n",
        " '__new__',\n",
        " '__reduce__',\n",
        " '__reduce_ex__',\n",
        " '__repr__',\n",
        " '__setattr__',\n",
        " '__sizeof__',\n",
        " '__str__',\n",
        " '__subclasshook__',\n",
        " '__weakref__',\n",
        " 'do_analysis',\n",
        " 'filename',\n",
        " 'processed']"
       ]
      }
     ],
     "prompt_number": 7
    },
    {
     "cell_type": "markdown",
     "metadata": {},
     "source": [
      "Note that we don't pass data_analysis_obj in to do_analysis(). This happens automatically - the object is passed in as the first argument."
     ]
    },
    {
     "cell_type": "code",
     "collapsed": false,
     "input": [
      "data_analysis_obj.do_analysis()"
     ],
     "language": "python",
     "metadata": {},
     "outputs": [
      {
       "output_type": "stream",
       "stream": "stdout",
       "text": [
        "Analyzing file! (you crazy Brits...)\n"
       ]
      },
      {
       "metadata": {},
       "output_type": "pyout",
       "prompt_number": 8,
       "text": [
        "5"
       ]
      }
     ],
     "prompt_number": 8
    },
    {
     "cell_type": "code",
     "collapsed": false,
     "input": [],
     "language": "python",
     "metadata": {},
     "outputs": []
    }
   ],
   "metadata": {}
  }
 ]
}