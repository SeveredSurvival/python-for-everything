{
 "metadata": {
  "name": "",
  "signature": "sha256:a34fec29f4afae191716d97d3041bcd90ec945575d607a57eee150bbd213113e"
 },
 "nbformat": 3,
 "nbformat_minor": 0,
 "worksheets": [
  {
   "cells": [
    {
     "cell_type": "markdown",
     "metadata": {},
     "source": [
      "# Bonus material: List comprehensions\n",
      "\n",
      "Materials by: [John Blischak](https://github.com/jdblischak \"GitHub\") and other Software Carpentry instructors (Joshua R. Smith, Milad Fatenejad, Katy Huff, Tommy Guy and many more)\n",
      "\n",
      "Note - this stuff confuses most people. If you are feeling confident, please proceed! Otherwise, this is really \"bonus\" material, so please focus on the core material."
     ]
    },
    {
     "cell_type": "markdown",
     "metadata": {},
     "source": [
      "## Introducing comprehensions\n",
      "\n",
      "Python has another way to perform iteration called list comprehensions. First, let's look at how we would create a \"transformed\" version of a list with loops. (If you don't understand loops already, you should probably review that material!)"
     ]
    },
    {
     "cell_type": "code",
     "collapsed": false,
     "input": [
      "# Multiply every number in a list by 2 using a for loop\n",
      "nums1 = [5, 1, 3, 10]\n",
      "nums2 = []\n",
      "for i in range(len(nums1)):\n",
      "    nums2.append(nums1[i] * 2)\n",
      "    \n",
      "print nums2"
     ],
     "language": "python",
     "metadata": {},
     "outputs": [
      {
       "output_type": "stream",
       "stream": "stdout",
       "text": [
        "[10, 2, 6, 20]\n"
       ]
      }
     ],
     "prompt_number": 1
    },
    {
     "cell_type": "markdown",
     "metadata": {},
     "source": [
      "You can see that doing the same thing with a list comprehension is very clear and compact (as long as it makes sense ;)"
     ]
    },
    {
     "cell_type": "code",
     "collapsed": false,
     "input": [
      "# Multiply every number in a list by 2 using a list comprehension\n",
      "nums2 = [x * 2 for x in nums1]\n",
      "\n",
      "print nums2"
     ],
     "language": "python",
     "metadata": {},
     "outputs": [
      {
       "output_type": "stream",
       "stream": "stdout",
       "text": [
        "[10, 2, 6, 20]\n"
       ]
      }
     ],
     "prompt_number": 2
    },
    {
     "cell_type": "markdown",
     "metadata": {},
     "source": [
      "What if we also have some conditional logic?"
     ]
    },
    {
     "cell_type": "code",
     "collapsed": false,
     "input": [
      "# Multiply every number in a list by 2, but only if the number is greater than 4\n",
      "nums1 = [5, 1, 3, 10]\n",
      "nums2 = []\n",
      "for i in range(len(nums1)):\n",
      "    if nums1[i] > 4:\n",
      "        nums2.append(nums1[i] * 2)\n",
      "    \n",
      "print nums2"
     ],
     "language": "python",
     "metadata": {},
     "outputs": [
      {
       "output_type": "stream",
       "stream": "stdout",
       "text": [
        "[10, 20]\n"
       ]
      }
     ],
     "prompt_number": 3
    },
    {
     "cell_type": "code",
     "collapsed": false,
     "input": [
      "# And using a list comprehension\n",
      "nums2 = [x * 2 for x in nums1 if x > 4]\n",
      "\n",
      "print nums2"
     ],
     "language": "python",
     "metadata": {},
     "outputs": [
      {
       "output_type": "stream",
       "stream": "stdout",
       "text": [
        "[10, 20]\n"
       ]
      }
     ],
     "prompt_number": 4
    },
    {
     "cell_type": "markdown",
     "metadata": {},
     "source": [
      "# Repeated Exercise: Convert genotypes\n",
      "This is the same material from 08-Loops. See if you can use list comprehensions to do the following exercises with more compact code.\n",
      "\n",
      "Again, create a new list which has the converted genotype for each subject ('AA' -> 0, 'AG' -> 1, 'GG' -> 2). Use the Dictionary provided below as a lookup table to do the conversion."
     ]
    },
    {
     "cell_type": "code",
     "collapsed": true,
     "input": [
      "converted = {'AA': 0, 'AG': 1, 'GG': 2}\n",
      "\n",
      "genos = ['AA', 'GG', 'AG', 'AG', 'GG']\n",
      "genos_new = [] # Use a comprehension here"
     ],
     "language": "python",
     "metadata": {},
     "outputs": [],
     "prompt_number": 5
    },
    {
     "cell_type": "markdown",
     "metadata": {},
     "source": [
      "Check your work:"
     ]
    },
    {
     "cell_type": "code",
     "collapsed": false,
     "input": [
      "genos_new == [0, 2, 1, 1, 2]"
     ],
     "language": "python",
     "metadata": {},
     "outputs": [
      {
       "metadata": {},
       "output_type": "pyout",
       "prompt_number": 6,
       "text": [
        "False"
       ]
      }
     ],
     "prompt_number": 6
    },
    {
     "cell_type": "code",
     "collapsed": false,
     "input": [],
     "language": "python",
     "metadata": {},
     "outputs": []
    }
   ],
   "metadata": {}
  }
 ]
}